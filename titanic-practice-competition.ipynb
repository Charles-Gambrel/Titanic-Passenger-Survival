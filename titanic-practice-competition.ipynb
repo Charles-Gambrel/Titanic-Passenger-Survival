{
 "cells": [
  {
   "cell_type": "code",
   "execution_count": 1,
   "metadata": {
    "_cell_guid": "b1076dfc-b9ad-4769-8c92-a6c4dae69d19",
    "_uuid": "8f2839f25d086af736a60e9eeb907d3b93b6e0e5",
    "execution": {
     "iopub.execute_input": "2021-01-31T22:00:28.333946Z",
     "iopub.status.busy": "2021-01-31T22:00:28.332593Z",
     "iopub.status.idle": "2021-01-31T22:00:29.447529Z",
     "shell.execute_reply": "2021-01-31T22:00:29.448160Z"
    },
    "papermill": {
     "duration": 1.174766,
     "end_time": "2021-01-31T22:00:29.448353",
     "exception": false,
     "start_time": "2021-01-31T22:00:28.273587",
     "status": "completed"
    },
    "tags": []
   },
   "outputs": [
    {
     "name": "stdout",
     "output_type": "stream",
     "text": [
      "/kaggle/input/titanic/train.csv\n",
      "/kaggle/input/titanic/test.csv\n",
      "/kaggle/input/titanic/gender_submission.csv\n"
     ]
    }
   ],
   "source": [
    "# This Python 3 environment comes with many helpful analytics libraries installed\n",
    "# It is defined by the kaggle/python Docker image: https://github.com/kaggle/docker-python\n",
    "# For example, here's several helpful packages to load\n",
    "\n",
    "import numpy as np # linear algebra\n",
    "import pandas as pd # data processing, CSV file I/O (e.g. pd.read_csv)\n",
    "\n",
    "# Input data files are available in the read-only \"../input/\" directory\n",
    "# For example, running this (by clicking run or pressing Shift+Enter) will list all files under the input directory\n",
    "\n",
    "import os\n",
    "for dirname, _, filenames in os.walk('/kaggle/input'):\n",
    "    for filename in filenames:\n",
    "        print(os.path.join(dirname, filename))\n",
    "\n",
    "# You can write up to 20GB to the current directory (/kaggle/working/) that gets preserved as output when you create a version using \"Save & Run All\" \n",
    "# You can also write temporary files to /kaggle/temp/, but they won't be saved outside of the current session\n",
    "\n",
    "import seaborn as sns\n",
    "import matplotlib.pyplot as plt"
   ]
  },
  {
   "cell_type": "code",
   "execution_count": 2,
   "metadata": {
    "_cell_guid": "79c7e3d0-c299-4dcb-8224-4455121ee9b0",
    "_uuid": "d629ff2d2480ee46fbb7e2d37f6b5fab8052498a",
    "execution": {
     "iopub.execute_input": "2021-01-31T22:00:29.557670Z",
     "iopub.status.busy": "2021-01-31T22:00:29.557033Z",
     "iopub.status.idle": "2021-01-31T22:00:29.594097Z",
     "shell.execute_reply": "2021-01-31T22:00:29.593482Z"
    },
    "papermill": {
     "duration": 0.094469,
     "end_time": "2021-01-31T22:00:29.594210",
     "exception": false,
     "start_time": "2021-01-31T22:00:29.499741",
     "status": "completed"
    },
    "tags": []
   },
   "outputs": [],
   "source": [
    "train = pd.read_csv('../input/titanic/train.csv')\n",
    "test = pd.read_csv('../input/titanic/test.csv')\n",
    "gender = pd.read_csv('../input/titanic/gender_submission.csv')"
   ]
  },
  {
   "cell_type": "markdown",
   "metadata": {
    "papermill": {
     "duration": 0.057109,
     "end_time": "2021-01-31T22:00:29.701274",
     "exception": false,
     "start_time": "2021-01-31T22:00:29.644165",
     "status": "completed"
    },
    "tags": []
   },
   "source": [
    "# Data Familiarization"
   ]
  },
  {
   "cell_type": "code",
   "execution_count": 3,
   "metadata": {
    "execution": {
     "iopub.execute_input": "2021-01-31T22:00:29.812877Z",
     "iopub.status.busy": "2021-01-31T22:00:29.812166Z",
     "iopub.status.idle": "2021-01-31T22:00:29.834896Z",
     "shell.execute_reply": "2021-01-31T22:00:29.834224Z"
    },
    "papermill": {
     "duration": 0.083883,
     "end_time": "2021-01-31T22:00:29.835010",
     "exception": false,
     "start_time": "2021-01-31T22:00:29.751127",
     "status": "completed"
    },
    "tags": []
   },
   "outputs": [
    {
     "data": {
      "text/html": [
       "<div>\n",
       "<style scoped>\n",
       "    .dataframe tbody tr th:only-of-type {\n",
       "        vertical-align: middle;\n",
       "    }\n",
       "\n",
       "    .dataframe tbody tr th {\n",
       "        vertical-align: top;\n",
       "    }\n",
       "\n",
       "    .dataframe thead th {\n",
       "        text-align: right;\n",
       "    }\n",
       "</style>\n",
       "<table border=\"1\" class=\"dataframe\">\n",
       "  <thead>\n",
       "    <tr style=\"text-align: right;\">\n",
       "      <th></th>\n",
       "      <th>PassengerId</th>\n",
       "      <th>Survived</th>\n",
       "      <th>Pclass</th>\n",
       "      <th>Name</th>\n",
       "      <th>Sex</th>\n",
       "      <th>Age</th>\n",
       "      <th>SibSp</th>\n",
       "      <th>Parch</th>\n",
       "      <th>Ticket</th>\n",
       "      <th>Fare</th>\n",
       "      <th>Cabin</th>\n",
       "      <th>Embarked</th>\n",
       "    </tr>\n",
       "  </thead>\n",
       "  <tbody>\n",
       "    <tr>\n",
       "      <th>0</th>\n",
       "      <td>1</td>\n",
       "      <td>0</td>\n",
       "      <td>3</td>\n",
       "      <td>Braund, Mr. Owen Harris</td>\n",
       "      <td>male</td>\n",
       "      <td>22.0</td>\n",
       "      <td>1</td>\n",
       "      <td>0</td>\n",
       "      <td>A/5 21171</td>\n",
       "      <td>7.2500</td>\n",
       "      <td>NaN</td>\n",
       "      <td>S</td>\n",
       "    </tr>\n",
       "    <tr>\n",
       "      <th>1</th>\n",
       "      <td>2</td>\n",
       "      <td>1</td>\n",
       "      <td>1</td>\n",
       "      <td>Cumings, Mrs. John Bradley (Florence Briggs Th...</td>\n",
       "      <td>female</td>\n",
       "      <td>38.0</td>\n",
       "      <td>1</td>\n",
       "      <td>0</td>\n",
       "      <td>PC 17599</td>\n",
       "      <td>71.2833</td>\n",
       "      <td>C85</td>\n",
       "      <td>C</td>\n",
       "    </tr>\n",
       "    <tr>\n",
       "      <th>2</th>\n",
       "      <td>3</td>\n",
       "      <td>1</td>\n",
       "      <td>3</td>\n",
       "      <td>Heikkinen, Miss. Laina</td>\n",
       "      <td>female</td>\n",
       "      <td>26.0</td>\n",
       "      <td>0</td>\n",
       "      <td>0</td>\n",
       "      <td>STON/O2. 3101282</td>\n",
       "      <td>7.9250</td>\n",
       "      <td>NaN</td>\n",
       "      <td>S</td>\n",
       "    </tr>\n",
       "    <tr>\n",
       "      <th>3</th>\n",
       "      <td>4</td>\n",
       "      <td>1</td>\n",
       "      <td>1</td>\n",
       "      <td>Futrelle, Mrs. Jacques Heath (Lily May Peel)</td>\n",
       "      <td>female</td>\n",
       "      <td>35.0</td>\n",
       "      <td>1</td>\n",
       "      <td>0</td>\n",
       "      <td>113803</td>\n",
       "      <td>53.1000</td>\n",
       "      <td>C123</td>\n",
       "      <td>S</td>\n",
       "    </tr>\n",
       "    <tr>\n",
       "      <th>4</th>\n",
       "      <td>5</td>\n",
       "      <td>0</td>\n",
       "      <td>3</td>\n",
       "      <td>Allen, Mr. William Henry</td>\n",
       "      <td>male</td>\n",
       "      <td>35.0</td>\n",
       "      <td>0</td>\n",
       "      <td>0</td>\n",
       "      <td>373450</td>\n",
       "      <td>8.0500</td>\n",
       "      <td>NaN</td>\n",
       "      <td>S</td>\n",
       "    </tr>\n",
       "  </tbody>\n",
       "</table>\n",
       "</div>"
      ],
      "text/plain": [
       "   PassengerId  Survived  Pclass  \\\n",
       "0            1         0       3   \n",
       "1            2         1       1   \n",
       "2            3         1       3   \n",
       "3            4         1       1   \n",
       "4            5         0       3   \n",
       "\n",
       "                                                Name     Sex   Age  SibSp  \\\n",
       "0                            Braund, Mr. Owen Harris    male  22.0      1   \n",
       "1  Cumings, Mrs. John Bradley (Florence Briggs Th...  female  38.0      1   \n",
       "2                             Heikkinen, Miss. Laina  female  26.0      0   \n",
       "3       Futrelle, Mrs. Jacques Heath (Lily May Peel)  female  35.0      1   \n",
       "4                           Allen, Mr. William Henry    male  35.0      0   \n",
       "\n",
       "   Parch            Ticket     Fare Cabin Embarked  \n",
       "0      0         A/5 21171   7.2500   NaN        S  \n",
       "1      0          PC 17599  71.2833   C85        C  \n",
       "2      0  STON/O2. 3101282   7.9250   NaN        S  \n",
       "3      0            113803  53.1000  C123        S  \n",
       "4      0            373450   8.0500   NaN        S  "
      ]
     },
     "execution_count": 3,
     "metadata": {},
     "output_type": "execute_result"
    }
   ],
   "source": [
    "train.head()"
   ]
  },
  {
   "cell_type": "code",
   "execution_count": 4,
   "metadata": {
    "execution": {
     "iopub.execute_input": "2021-01-31T22:00:29.939947Z",
     "iopub.status.busy": "2021-01-31T22:00:29.939242Z",
     "iopub.status.idle": "2021-01-31T22:00:29.955507Z",
     "shell.execute_reply": "2021-01-31T22:00:29.956002Z"
    },
    "papermill": {
     "duration": 0.070002,
     "end_time": "2021-01-31T22:00:29.956152",
     "exception": false,
     "start_time": "2021-01-31T22:00:29.886150",
     "status": "completed"
    },
    "tags": []
   },
   "outputs": [
    {
     "data": {
      "text/html": [
       "<div>\n",
       "<style scoped>\n",
       "    .dataframe tbody tr th:only-of-type {\n",
       "        vertical-align: middle;\n",
       "    }\n",
       "\n",
       "    .dataframe tbody tr th {\n",
       "        vertical-align: top;\n",
       "    }\n",
       "\n",
       "    .dataframe thead th {\n",
       "        text-align: right;\n",
       "    }\n",
       "</style>\n",
       "<table border=\"1\" class=\"dataframe\">\n",
       "  <thead>\n",
       "    <tr style=\"text-align: right;\">\n",
       "      <th></th>\n",
       "      <th>PassengerId</th>\n",
       "      <th>Pclass</th>\n",
       "      <th>Name</th>\n",
       "      <th>Sex</th>\n",
       "      <th>Age</th>\n",
       "      <th>SibSp</th>\n",
       "      <th>Parch</th>\n",
       "      <th>Ticket</th>\n",
       "      <th>Fare</th>\n",
       "      <th>Cabin</th>\n",
       "      <th>Embarked</th>\n",
       "    </tr>\n",
       "  </thead>\n",
       "  <tbody>\n",
       "    <tr>\n",
       "      <th>0</th>\n",
       "      <td>892</td>\n",
       "      <td>3</td>\n",
       "      <td>Kelly, Mr. James</td>\n",
       "      <td>male</td>\n",
       "      <td>34.5</td>\n",
       "      <td>0</td>\n",
       "      <td>0</td>\n",
       "      <td>330911</td>\n",
       "      <td>7.8292</td>\n",
       "      <td>NaN</td>\n",
       "      <td>Q</td>\n",
       "    </tr>\n",
       "    <tr>\n",
       "      <th>1</th>\n",
       "      <td>893</td>\n",
       "      <td>3</td>\n",
       "      <td>Wilkes, Mrs. James (Ellen Needs)</td>\n",
       "      <td>female</td>\n",
       "      <td>47.0</td>\n",
       "      <td>1</td>\n",
       "      <td>0</td>\n",
       "      <td>363272</td>\n",
       "      <td>7.0000</td>\n",
       "      <td>NaN</td>\n",
       "      <td>S</td>\n",
       "    </tr>\n",
       "    <tr>\n",
       "      <th>2</th>\n",
       "      <td>894</td>\n",
       "      <td>2</td>\n",
       "      <td>Myles, Mr. Thomas Francis</td>\n",
       "      <td>male</td>\n",
       "      <td>62.0</td>\n",
       "      <td>0</td>\n",
       "      <td>0</td>\n",
       "      <td>240276</td>\n",
       "      <td>9.6875</td>\n",
       "      <td>NaN</td>\n",
       "      <td>Q</td>\n",
       "    </tr>\n",
       "    <tr>\n",
       "      <th>3</th>\n",
       "      <td>895</td>\n",
       "      <td>3</td>\n",
       "      <td>Wirz, Mr. Albert</td>\n",
       "      <td>male</td>\n",
       "      <td>27.0</td>\n",
       "      <td>0</td>\n",
       "      <td>0</td>\n",
       "      <td>315154</td>\n",
       "      <td>8.6625</td>\n",
       "      <td>NaN</td>\n",
       "      <td>S</td>\n",
       "    </tr>\n",
       "    <tr>\n",
       "      <th>4</th>\n",
       "      <td>896</td>\n",
       "      <td>3</td>\n",
       "      <td>Hirvonen, Mrs. Alexander (Helga E Lindqvist)</td>\n",
       "      <td>female</td>\n",
       "      <td>22.0</td>\n",
       "      <td>1</td>\n",
       "      <td>1</td>\n",
       "      <td>3101298</td>\n",
       "      <td>12.2875</td>\n",
       "      <td>NaN</td>\n",
       "      <td>S</td>\n",
       "    </tr>\n",
       "  </tbody>\n",
       "</table>\n",
       "</div>"
      ],
      "text/plain": [
       "   PassengerId  Pclass                                          Name     Sex  \\\n",
       "0          892       3                              Kelly, Mr. James    male   \n",
       "1          893       3              Wilkes, Mrs. James (Ellen Needs)  female   \n",
       "2          894       2                     Myles, Mr. Thomas Francis    male   \n",
       "3          895       3                              Wirz, Mr. Albert    male   \n",
       "4          896       3  Hirvonen, Mrs. Alexander (Helga E Lindqvist)  female   \n",
       "\n",
       "    Age  SibSp  Parch   Ticket     Fare Cabin Embarked  \n",
       "0  34.5      0      0   330911   7.8292   NaN        Q  \n",
       "1  47.0      1      0   363272   7.0000   NaN        S  \n",
       "2  62.0      0      0   240276   9.6875   NaN        Q  \n",
       "3  27.0      0      0   315154   8.6625   NaN        S  \n",
       "4  22.0      1      1  3101298  12.2875   NaN        S  "
      ]
     },
     "execution_count": 4,
     "metadata": {},
     "output_type": "execute_result"
    }
   ],
   "source": [
    "test.head()"
   ]
  },
  {
   "cell_type": "code",
   "execution_count": 5,
   "metadata": {
    "execution": {
     "iopub.execute_input": "2021-01-31T22:00:30.069087Z",
     "iopub.status.busy": "2021-01-31T22:00:30.068439Z",
     "iopub.status.idle": "2021-01-31T22:00:30.071891Z",
     "shell.execute_reply": "2021-01-31T22:00:30.072379Z"
    },
    "papermill": {
     "duration": 0.064181,
     "end_time": "2021-01-31T22:00:30.072523",
     "exception": false,
     "start_time": "2021-01-31T22:00:30.008342",
     "status": "completed"
    },
    "tags": []
   },
   "outputs": [
    {
     "data": {
      "text/html": [
       "<div>\n",
       "<style scoped>\n",
       "    .dataframe tbody tr th:only-of-type {\n",
       "        vertical-align: middle;\n",
       "    }\n",
       "\n",
       "    .dataframe tbody tr th {\n",
       "        vertical-align: top;\n",
       "    }\n",
       "\n",
       "    .dataframe thead th {\n",
       "        text-align: right;\n",
       "    }\n",
       "</style>\n",
       "<table border=\"1\" class=\"dataframe\">\n",
       "  <thead>\n",
       "    <tr style=\"text-align: right;\">\n",
       "      <th></th>\n",
       "      <th>PassengerId</th>\n",
       "      <th>Survived</th>\n",
       "    </tr>\n",
       "  </thead>\n",
       "  <tbody>\n",
       "    <tr>\n",
       "      <th>0</th>\n",
       "      <td>892</td>\n",
       "      <td>0</td>\n",
       "    </tr>\n",
       "    <tr>\n",
       "      <th>1</th>\n",
       "      <td>893</td>\n",
       "      <td>1</td>\n",
       "    </tr>\n",
       "    <tr>\n",
       "      <th>2</th>\n",
       "      <td>894</td>\n",
       "      <td>0</td>\n",
       "    </tr>\n",
       "    <tr>\n",
       "      <th>3</th>\n",
       "      <td>895</td>\n",
       "      <td>0</td>\n",
       "    </tr>\n",
       "    <tr>\n",
       "      <th>4</th>\n",
       "      <td>896</td>\n",
       "      <td>1</td>\n",
       "    </tr>\n",
       "  </tbody>\n",
       "</table>\n",
       "</div>"
      ],
      "text/plain": [
       "   PassengerId  Survived\n",
       "0          892         0\n",
       "1          893         1\n",
       "2          894         0\n",
       "3          895         0\n",
       "4          896         1"
      ]
     },
     "execution_count": 5,
     "metadata": {},
     "output_type": "execute_result"
    }
   ],
   "source": [
    "gender.head()"
   ]
  },
  {
   "cell_type": "code",
   "execution_count": 6,
   "metadata": {
    "execution": {
     "iopub.execute_input": "2021-01-31T22:00:30.179536Z",
     "iopub.status.busy": "2021-01-31T22:00:30.178928Z",
     "iopub.status.idle": "2021-01-31T22:00:30.200882Z",
     "shell.execute_reply": "2021-01-31T22:00:30.201371Z"
    },
    "papermill": {
     "duration": 0.07711,
     "end_time": "2021-01-31T22:00:30.201521",
     "exception": false,
     "start_time": "2021-01-31T22:00:30.124411",
     "status": "completed"
    },
    "tags": []
   },
   "outputs": [
    {
     "name": "stdout",
     "output_type": "stream",
     "text": [
      "<class 'pandas.core.frame.DataFrame'>\n",
      "RangeIndex: 891 entries, 0 to 890\n",
      "Data columns (total 12 columns):\n",
      " #   Column       Non-Null Count  Dtype  \n",
      "---  ------       --------------  -----  \n",
      " 0   PassengerId  891 non-null    int64  \n",
      " 1   Survived     891 non-null    int64  \n",
      " 2   Pclass       891 non-null    int64  \n",
      " 3   Name         891 non-null    object \n",
      " 4   Sex          891 non-null    object \n",
      " 5   Age          714 non-null    float64\n",
      " 6   SibSp        891 non-null    int64  \n",
      " 7   Parch        891 non-null    int64  \n",
      " 8   Ticket       891 non-null    object \n",
      " 9   Fare         891 non-null    float64\n",
      " 10  Cabin        204 non-null    object \n",
      " 11  Embarked     889 non-null    object \n",
      "dtypes: float64(2), int64(5), object(5)\n",
      "memory usage: 83.7+ KB\n",
      " \n",
      "<class 'pandas.core.frame.DataFrame'>\n",
      "RangeIndex: 418 entries, 0 to 417\n",
      "Data columns (total 11 columns):\n",
      " #   Column       Non-Null Count  Dtype  \n",
      "---  ------       --------------  -----  \n",
      " 0   PassengerId  418 non-null    int64  \n",
      " 1   Pclass       418 non-null    int64  \n",
      " 2   Name         418 non-null    object \n",
      " 3   Sex          418 non-null    object \n",
      " 4   Age          332 non-null    float64\n",
      " 5   SibSp        418 non-null    int64  \n",
      " 6   Parch        418 non-null    int64  \n",
      " 7   Ticket       418 non-null    object \n",
      " 8   Fare         417 non-null    float64\n",
      " 9   Cabin        91 non-null     object \n",
      " 10  Embarked     418 non-null    object \n",
      "dtypes: float64(2), int64(4), object(5)\n",
      "memory usage: 36.0+ KB\n"
     ]
    }
   ],
   "source": [
    "train.info()\n",
    "print(' ')\n",
    "test.info()"
   ]
  },
  {
   "cell_type": "code",
   "execution_count": 7,
   "metadata": {
    "execution": {
     "iopub.execute_input": "2021-01-31T22:00:30.317527Z",
     "iopub.status.busy": "2021-01-31T22:00:30.316618Z",
     "iopub.status.idle": "2021-01-31T22:00:30.320523Z",
     "shell.execute_reply": "2021-01-31T22:00:30.320999Z"
    },
    "papermill": {
     "duration": 0.065898,
     "end_time": "2021-01-31T22:00:30.321151",
     "exception": false,
     "start_time": "2021-01-31T22:00:30.255253",
     "status": "completed"
    },
    "tags": []
   },
   "outputs": [
    {
     "data": {
      "text/plain": [
       "Cabin          687\n",
       "Age            177\n",
       "Embarked         2\n",
       "Fare             0\n",
       "Ticket           0\n",
       "Parch            0\n",
       "SibSp            0\n",
       "Sex              0\n",
       "Name             0\n",
       "Pclass           0\n",
       "Survived         0\n",
       "PassengerId      0\n",
       "dtype: int64"
      ]
     },
     "execution_count": 7,
     "metadata": {},
     "output_type": "execute_result"
    }
   ],
   "source": [
    "train.isnull().sum().sort_values(ascending = False)"
   ]
  },
  {
   "cell_type": "code",
   "execution_count": 8,
   "metadata": {
    "execution": {
     "iopub.execute_input": "2021-01-31T22:00:30.436893Z",
     "iopub.status.busy": "2021-01-31T22:00:30.436010Z",
     "iopub.status.idle": "2021-01-31T22:00:30.440653Z",
     "shell.execute_reply": "2021-01-31T22:00:30.441147Z"
    },
    "papermill": {
     "duration": 0.067231,
     "end_time": "2021-01-31T22:00:30.441316",
     "exception": false,
     "start_time": "2021-01-31T22:00:30.374085",
     "status": "completed"
    },
    "tags": []
   },
   "outputs": [
    {
     "data": {
      "text/plain": [
       "Cabin          327\n",
       "Age             86\n",
       "Fare             1\n",
       "Embarked         0\n",
       "Ticket           0\n",
       "Parch            0\n",
       "SibSp            0\n",
       "Sex              0\n",
       "Name             0\n",
       "Pclass           0\n",
       "PassengerId      0\n",
       "dtype: int64"
      ]
     },
     "execution_count": 8,
     "metadata": {},
     "output_type": "execute_result"
    }
   ],
   "source": [
    "test.isnull().sum().sort_values(ascending = False)"
   ]
  },
  {
   "cell_type": "code",
   "execution_count": 9,
   "metadata": {
    "execution": {
     "iopub.execute_input": "2021-01-31T22:00:30.557167Z",
     "iopub.status.busy": "2021-01-31T22:00:30.556170Z",
     "iopub.status.idle": "2021-01-31T22:00:30.584958Z",
     "shell.execute_reply": "2021-01-31T22:00:30.584321Z"
    },
    "papermill": {
     "duration": 0.090092,
     "end_time": "2021-01-31T22:00:30.585068",
     "exception": false,
     "start_time": "2021-01-31T22:00:30.494976",
     "status": "completed"
    },
    "tags": []
   },
   "outputs": [
    {
     "data": {
      "text/html": [
       "<div>\n",
       "<style scoped>\n",
       "    .dataframe tbody tr th:only-of-type {\n",
       "        vertical-align: middle;\n",
       "    }\n",
       "\n",
       "    .dataframe tbody tr th {\n",
       "        vertical-align: top;\n",
       "    }\n",
       "\n",
       "    .dataframe thead th {\n",
       "        text-align: right;\n",
       "    }\n",
       "</style>\n",
       "<table border=\"1\" class=\"dataframe\">\n",
       "  <thead>\n",
       "    <tr style=\"text-align: right;\">\n",
       "      <th></th>\n",
       "      <th>PassengerId</th>\n",
       "      <th>Survived</th>\n",
       "      <th>Pclass</th>\n",
       "      <th>Age</th>\n",
       "      <th>SibSp</th>\n",
       "      <th>Parch</th>\n",
       "      <th>Fare</th>\n",
       "    </tr>\n",
       "  </thead>\n",
       "  <tbody>\n",
       "    <tr>\n",
       "      <th>count</th>\n",
       "      <td>891.000000</td>\n",
       "      <td>891.000000</td>\n",
       "      <td>891.000000</td>\n",
       "      <td>714.000000</td>\n",
       "      <td>891.000000</td>\n",
       "      <td>891.000000</td>\n",
       "      <td>891.000000</td>\n",
       "    </tr>\n",
       "    <tr>\n",
       "      <th>mean</th>\n",
       "      <td>446.000000</td>\n",
       "      <td>0.383838</td>\n",
       "      <td>2.308642</td>\n",
       "      <td>29.699118</td>\n",
       "      <td>0.523008</td>\n",
       "      <td>0.381594</td>\n",
       "      <td>32.204208</td>\n",
       "    </tr>\n",
       "    <tr>\n",
       "      <th>std</th>\n",
       "      <td>257.353842</td>\n",
       "      <td>0.486592</td>\n",
       "      <td>0.836071</td>\n",
       "      <td>14.526497</td>\n",
       "      <td>1.102743</td>\n",
       "      <td>0.806057</td>\n",
       "      <td>49.693429</td>\n",
       "    </tr>\n",
       "    <tr>\n",
       "      <th>min</th>\n",
       "      <td>1.000000</td>\n",
       "      <td>0.000000</td>\n",
       "      <td>1.000000</td>\n",
       "      <td>0.420000</td>\n",
       "      <td>0.000000</td>\n",
       "      <td>0.000000</td>\n",
       "      <td>0.000000</td>\n",
       "    </tr>\n",
       "    <tr>\n",
       "      <th>25%</th>\n",
       "      <td>223.500000</td>\n",
       "      <td>0.000000</td>\n",
       "      <td>2.000000</td>\n",
       "      <td>20.125000</td>\n",
       "      <td>0.000000</td>\n",
       "      <td>0.000000</td>\n",
       "      <td>7.910400</td>\n",
       "    </tr>\n",
       "    <tr>\n",
       "      <th>50%</th>\n",
       "      <td>446.000000</td>\n",
       "      <td>0.000000</td>\n",
       "      <td>3.000000</td>\n",
       "      <td>28.000000</td>\n",
       "      <td>0.000000</td>\n",
       "      <td>0.000000</td>\n",
       "      <td>14.454200</td>\n",
       "    </tr>\n",
       "    <tr>\n",
       "      <th>75%</th>\n",
       "      <td>668.500000</td>\n",
       "      <td>1.000000</td>\n",
       "      <td>3.000000</td>\n",
       "      <td>38.000000</td>\n",
       "      <td>1.000000</td>\n",
       "      <td>0.000000</td>\n",
       "      <td>31.000000</td>\n",
       "    </tr>\n",
       "    <tr>\n",
       "      <th>max</th>\n",
       "      <td>891.000000</td>\n",
       "      <td>1.000000</td>\n",
       "      <td>3.000000</td>\n",
       "      <td>80.000000</td>\n",
       "      <td>8.000000</td>\n",
       "      <td>6.000000</td>\n",
       "      <td>512.329200</td>\n",
       "    </tr>\n",
       "  </tbody>\n",
       "</table>\n",
       "</div>"
      ],
      "text/plain": [
       "       PassengerId    Survived      Pclass         Age       SibSp  \\\n",
       "count   891.000000  891.000000  891.000000  714.000000  891.000000   \n",
       "mean    446.000000    0.383838    2.308642   29.699118    0.523008   \n",
       "std     257.353842    0.486592    0.836071   14.526497    1.102743   \n",
       "min       1.000000    0.000000    1.000000    0.420000    0.000000   \n",
       "25%     223.500000    0.000000    2.000000   20.125000    0.000000   \n",
       "50%     446.000000    0.000000    3.000000   28.000000    0.000000   \n",
       "75%     668.500000    1.000000    3.000000   38.000000    1.000000   \n",
       "max     891.000000    1.000000    3.000000   80.000000    8.000000   \n",
       "\n",
       "            Parch        Fare  \n",
       "count  891.000000  891.000000  \n",
       "mean     0.381594   32.204208  \n",
       "std      0.806057   49.693429  \n",
       "min      0.000000    0.000000  \n",
       "25%      0.000000    7.910400  \n",
       "50%      0.000000   14.454200  \n",
       "75%      0.000000   31.000000  \n",
       "max      6.000000  512.329200  "
      ]
     },
     "execution_count": 9,
     "metadata": {},
     "output_type": "execute_result"
    }
   ],
   "source": [
    "train.describe()"
   ]
  },
  {
   "cell_type": "code",
   "execution_count": 10,
   "metadata": {
    "execution": {
     "iopub.execute_input": "2021-01-31T22:00:30.704417Z",
     "iopub.status.busy": "2021-01-31T22:00:30.701614Z",
     "iopub.status.idle": "2021-01-31T22:00:30.728077Z",
     "shell.execute_reply": "2021-01-31T22:00:30.727487Z"
    },
    "papermill": {
     "duration": 0.088613,
     "end_time": "2021-01-31T22:00:30.728193",
     "exception": false,
     "start_time": "2021-01-31T22:00:30.639580",
     "status": "completed"
    },
    "tags": []
   },
   "outputs": [
    {
     "data": {
      "text/html": [
       "<div>\n",
       "<style scoped>\n",
       "    .dataframe tbody tr th:only-of-type {\n",
       "        vertical-align: middle;\n",
       "    }\n",
       "\n",
       "    .dataframe tbody tr th {\n",
       "        vertical-align: top;\n",
       "    }\n",
       "\n",
       "    .dataframe thead th {\n",
       "        text-align: right;\n",
       "    }\n",
       "</style>\n",
       "<table border=\"1\" class=\"dataframe\">\n",
       "  <thead>\n",
       "    <tr style=\"text-align: right;\">\n",
       "      <th></th>\n",
       "      <th>PassengerId</th>\n",
       "      <th>Pclass</th>\n",
       "      <th>Age</th>\n",
       "      <th>SibSp</th>\n",
       "      <th>Parch</th>\n",
       "      <th>Fare</th>\n",
       "    </tr>\n",
       "  </thead>\n",
       "  <tbody>\n",
       "    <tr>\n",
       "      <th>count</th>\n",
       "      <td>418.000000</td>\n",
       "      <td>418.000000</td>\n",
       "      <td>332.000000</td>\n",
       "      <td>418.000000</td>\n",
       "      <td>418.000000</td>\n",
       "      <td>417.000000</td>\n",
       "    </tr>\n",
       "    <tr>\n",
       "      <th>mean</th>\n",
       "      <td>1100.500000</td>\n",
       "      <td>2.265550</td>\n",
       "      <td>30.272590</td>\n",
       "      <td>0.447368</td>\n",
       "      <td>0.392344</td>\n",
       "      <td>35.627188</td>\n",
       "    </tr>\n",
       "    <tr>\n",
       "      <th>std</th>\n",
       "      <td>120.810458</td>\n",
       "      <td>0.841838</td>\n",
       "      <td>14.181209</td>\n",
       "      <td>0.896760</td>\n",
       "      <td>0.981429</td>\n",
       "      <td>55.907576</td>\n",
       "    </tr>\n",
       "    <tr>\n",
       "      <th>min</th>\n",
       "      <td>892.000000</td>\n",
       "      <td>1.000000</td>\n",
       "      <td>0.170000</td>\n",
       "      <td>0.000000</td>\n",
       "      <td>0.000000</td>\n",
       "      <td>0.000000</td>\n",
       "    </tr>\n",
       "    <tr>\n",
       "      <th>25%</th>\n",
       "      <td>996.250000</td>\n",
       "      <td>1.000000</td>\n",
       "      <td>21.000000</td>\n",
       "      <td>0.000000</td>\n",
       "      <td>0.000000</td>\n",
       "      <td>7.895800</td>\n",
       "    </tr>\n",
       "    <tr>\n",
       "      <th>50%</th>\n",
       "      <td>1100.500000</td>\n",
       "      <td>3.000000</td>\n",
       "      <td>27.000000</td>\n",
       "      <td>0.000000</td>\n",
       "      <td>0.000000</td>\n",
       "      <td>14.454200</td>\n",
       "    </tr>\n",
       "    <tr>\n",
       "      <th>75%</th>\n",
       "      <td>1204.750000</td>\n",
       "      <td>3.000000</td>\n",
       "      <td>39.000000</td>\n",
       "      <td>1.000000</td>\n",
       "      <td>0.000000</td>\n",
       "      <td>31.500000</td>\n",
       "    </tr>\n",
       "    <tr>\n",
       "      <th>max</th>\n",
       "      <td>1309.000000</td>\n",
       "      <td>3.000000</td>\n",
       "      <td>76.000000</td>\n",
       "      <td>8.000000</td>\n",
       "      <td>9.000000</td>\n",
       "      <td>512.329200</td>\n",
       "    </tr>\n",
       "  </tbody>\n",
       "</table>\n",
       "</div>"
      ],
      "text/plain": [
       "       PassengerId      Pclass         Age       SibSp       Parch        Fare\n",
       "count   418.000000  418.000000  332.000000  418.000000  418.000000  417.000000\n",
       "mean   1100.500000    2.265550   30.272590    0.447368    0.392344   35.627188\n",
       "std     120.810458    0.841838   14.181209    0.896760    0.981429   55.907576\n",
       "min     892.000000    1.000000    0.170000    0.000000    0.000000    0.000000\n",
       "25%     996.250000    1.000000   21.000000    0.000000    0.000000    7.895800\n",
       "50%    1100.500000    3.000000   27.000000    0.000000    0.000000   14.454200\n",
       "75%    1204.750000    3.000000   39.000000    1.000000    0.000000   31.500000\n",
       "max    1309.000000    3.000000   76.000000    8.000000    9.000000  512.329200"
      ]
     },
     "execution_count": 10,
     "metadata": {},
     "output_type": "execute_result"
    }
   ],
   "source": [
    "test.describe()"
   ]
  },
  {
   "cell_type": "code",
   "execution_count": 11,
   "metadata": {
    "execution": {
     "iopub.execute_input": "2021-01-31T22:00:30.845267Z",
     "iopub.status.busy": "2021-01-31T22:00:30.844601Z",
     "iopub.status.idle": "2021-01-31T22:00:30.848529Z",
     "shell.execute_reply": "2021-01-31T22:00:30.847958Z"
    },
    "papermill": {
     "duration": 0.065559,
     "end_time": "2021-01-31T22:00:30.848637",
     "exception": false,
     "start_time": "2021-01-31T22:00:30.783078",
     "status": "completed"
    },
    "tags": []
   },
   "outputs": [
    {
     "data": {
      "text/plain": [
       "male      577\n",
       "female    314\n",
       "Name: Sex, dtype: int64"
      ]
     },
     "execution_count": 11,
     "metadata": {},
     "output_type": "execute_result"
    }
   ],
   "source": [
    "train['Sex'].value_counts()"
   ]
  },
  {
   "cell_type": "code",
   "execution_count": 12,
   "metadata": {
    "execution": {
     "iopub.execute_input": "2021-01-31T22:00:30.972548Z",
     "iopub.status.busy": "2021-01-31T22:00:30.971845Z",
     "iopub.status.idle": "2021-01-31T22:00:30.983035Z",
     "shell.execute_reply": "2021-01-31T22:00:30.983496Z"
    },
    "papermill": {
     "duration": 0.07963,
     "end_time": "2021-01-31T22:00:30.983640",
     "exception": false,
     "start_time": "2021-01-31T22:00:30.904010",
     "status": "completed"
    },
    "tags": []
   },
   "outputs": [
    {
     "data": {
      "text/html": [
       "<div>\n",
       "<style scoped>\n",
       "    .dataframe tbody tr th:only-of-type {\n",
       "        vertical-align: middle;\n",
       "    }\n",
       "\n",
       "    .dataframe tbody tr th {\n",
       "        vertical-align: top;\n",
       "    }\n",
       "\n",
       "    .dataframe thead th {\n",
       "        text-align: right;\n",
       "    }\n",
       "</style>\n",
       "<table border=\"1\" class=\"dataframe\">\n",
       "  <thead>\n",
       "    <tr style=\"text-align: right;\">\n",
       "      <th></th>\n",
       "      <th>Sex</th>\n",
       "      <th>Survived</th>\n",
       "    </tr>\n",
       "  </thead>\n",
       "  <tbody>\n",
       "    <tr>\n",
       "      <th>0</th>\n",
       "      <td>female</td>\n",
       "      <td>0.742038</td>\n",
       "    </tr>\n",
       "    <tr>\n",
       "      <th>1</th>\n",
       "      <td>male</td>\n",
       "      <td>0.188908</td>\n",
       "    </tr>\n",
       "  </tbody>\n",
       "</table>\n",
       "</div>"
      ],
      "text/plain": [
       "      Sex  Survived\n",
       "0  female  0.742038\n",
       "1    male  0.188908"
      ]
     },
     "execution_count": 12,
     "metadata": {},
     "output_type": "execute_result"
    }
   ],
   "source": [
    "train[['Sex', 'Survived']].groupby('Sex', as_index = False).mean().sort_values(by='Survived', ascending = False)"
   ]
  },
  {
   "cell_type": "code",
   "execution_count": 13,
   "metadata": {
    "execution": {
     "iopub.execute_input": "2021-01-31T22:00:31.105759Z",
     "iopub.status.busy": "2021-01-31T22:00:31.105103Z",
     "iopub.status.idle": "2021-01-31T22:00:31.362627Z",
     "shell.execute_reply": "2021-01-31T22:00:31.363109Z"
    },
    "papermill": {
     "duration": 0.322086,
     "end_time": "2021-01-31T22:00:31.363257",
     "exception": false,
     "start_time": "2021-01-31T22:00:31.041171",
     "status": "completed"
    },
    "tags": []
   },
   "outputs": [
    {
     "data": {
      "text/plain": [
       "Text(0.5, 1.0, 'Survival Probability by Gender')"
      ]
     },
     "execution_count": 13,
     "metadata": {},
     "output_type": "execute_result"
    },
    {
     "data": {
      "image/png": "[encoded data removed]",
      "text/plain": [
       "<Figure size 432x288 with 1 Axes>"
      ]
     },
     "metadata": {
      "needs_background": "light"
     },
     "output_type": "display_data"
    }
   ],
   "source": [
    "sns.barplot(x = 'Sex', y = 'Survived', data = train)\n",
    "plt.ylabel('Survival Probability')\n",
    "plt.title('Survival Probability by Gender')"
   ]
  },
  {
   "cell_type": "markdown",
   "metadata": {
    "papermill": {
     "duration": 0.05841,
     "end_time": "2021-01-31T22:00:31.480313",
     "exception": false,
     "start_time": "2021-01-31T22:00:31.421903",
     "status": "completed"
    },
    "tags": []
   },
   "source": [
    "We are given a gender based test submission to start. This predicts survivability based off of the gender of the passangers alone which, judging by the histogram above, is a decent predictor. This will be submitted for grading as a control metric to imporve upon with machine learning."
   ]
  },
  {
   "cell_type": "code",
   "execution_count": 14,
   "metadata": {
    "execution": {
     "iopub.execute_input": "2021-01-31T22:00:31.603424Z",
     "iopub.status.busy": "2021-01-31T22:00:31.602712Z",
     "iopub.status.idle": "2021-01-31T22:00:31.931432Z",
     "shell.execute_reply": "2021-01-31T22:00:31.930589Z"
    },
    "papermill": {
     "duration": 0.392095,
     "end_time": "2021-01-31T22:00:31.931553",
     "exception": false,
     "start_time": "2021-01-31T22:00:31.539458",
     "status": "completed"
    },
    "tags": []
   },
   "outputs": [],
   "source": [
    "gender.to_csv('control_submission.csv', index=False)"
   ]
  },
  {
   "cell_type": "markdown",
   "metadata": {
    "papermill": {
     "duration": 0.058629,
     "end_time": "2021-01-31T22:00:32.048220",
     "exception": false,
     "start_time": "2021-01-31T22:00:31.989591",
     "status": "completed"
    },
    "tags": []
   },
   "source": [
    "Using gender as a predictor of survivability alone has yielded an accuracy of 0.76555.\n",
    "Now we will search for additional patterns and harness these for imporved accuracy."
   ]
  },
  {
   "cell_type": "markdown",
   "metadata": {
    "papermill": {
     "duration": 0.058528,
     "end_time": "2021-01-31T22:00:32.164677",
     "exception": false,
     "start_time": "2021-01-31T22:00:32.106149",
     "status": "completed"
    },
    "tags": []
   },
   "source": [
    "# Data examination and cleaning"
   ]
  },
  {
   "cell_type": "code",
   "execution_count": 15,
   "metadata": {
    "execution": {
     "iopub.execute_input": "2021-01-31T22:00:32.292366Z",
     "iopub.status.busy": "2021-01-31T22:00:32.291606Z",
     "iopub.status.idle": "2021-01-31T22:00:32.294869Z",
     "shell.execute_reply": "2021-01-31T22:00:32.294335Z"
    },
    "papermill": {
     "duration": 0.071031,
     "end_time": "2021-01-31T22:00:32.294992",
     "exception": false,
     "start_time": "2021-01-31T22:00:32.223961",
     "status": "completed"
    },
    "tags": []
   },
   "outputs": [],
   "source": [
    "df_num = train[['Age', 'SibSp', 'Parch', 'Fare']]\n",
    "df_cat = train[['Survived', 'Pclass', 'Sex', 'Ticket', 'Cabin', 'Embarked']]"
   ]
  },
  {
   "cell_type": "code",
   "execution_count": 16,
   "metadata": {
    "execution": {
     "iopub.execute_input": "2021-01-31T22:00:32.426239Z",
     "iopub.status.busy": "2021-01-31T22:00:32.425397Z",
     "iopub.status.idle": "2021-01-31T22:00:33.186315Z",
     "shell.execute_reply": "2021-01-31T22:00:33.185239Z"
    },
    "papermill": {
     "duration": 0.832239,
     "end_time": "2021-01-31T22:00:33.186447",
     "exception": false,
     "start_time": "2021-01-31T22:00:32.354208",
     "status": "completed"
    },
    "tags": []
   },
   "outputs": [
    {
     "name": "stderr",
     "output_type": "stream",
     "text": [
      "/opt/conda/lib/python3.7/site-packages/numpy/lib/histograms.py:839: RuntimeWarning: invalid value encountered in greater_equal\n",
      "  keep = (tmp_a >= first_edge)\n",
      "/opt/conda/lib/python3.7/site-packages/numpy/lib/histograms.py:840: RuntimeWarning: invalid value encountered in less_equal\n",
      "  keep &= (tmp_a <= last_edge)\n"
     ]
    },
    {
     "data": {
      "image/png": "[encoded data removed]",
      "text/plain": [
       "<Figure size 432x288 with 1 Axes>"
      ]
     },
     "metadata": {
      "needs_background": "light"
     },
     "output_type": "display_data"
    },
    {
     "data": {
      "image/png": "[encoded data removed]",
      "text/plain": [
       "<Figure size 432x288 with 1 Axes>"
      ]
     },
     "metadata": {
      "needs_background": "light"
     },
     "output_type": "display_data"
    },
    {
     "data": {
      "image/png": "[encoded data removed]",
      "text/plain": [
       "<Figure size 432x288 with 1 Axes>"
      ]
     },
     "metadata": {
      "needs_background": "light"
     },
     "output_type": "display_data"
    },
    {
     "data": {
      "image/png": "[encoded data removed]",
      "text/plain": [
       "<Figure size 432x288 with 1 Axes>"
      ]
     },
     "metadata": {
      "needs_background": "light"
     },
     "output_type": "display_data"
    }
   ],
   "source": [
    "for i in df_num.columns:\n",
    "    plt.hist(df_num[i])\n",
    "    plt.title(i)\n",
    "    plt.show()"
   ]
  },
  {
   "cell_type": "code",
   "execution_count": 17,
   "metadata": {
    "execution": {
     "iopub.execute_input": "2021-01-31T22:00:33.325751Z",
     "iopub.status.busy": "2021-01-31T22:00:33.325049Z",
     "iopub.status.idle": "2021-01-31T22:00:33.329683Z",
     "shell.execute_reply": "2021-01-31T22:00:33.329124Z"
    },
    "papermill": {
     "duration": 0.080123,
     "end_time": "2021-01-31T22:00:33.329828",
     "exception": false,
     "start_time": "2021-01-31T22:00:33.249705",
     "status": "completed"
    },
    "tags": []
   },
   "outputs": [
    {
     "name": "stdout",
     "output_type": "stream",
     "text": [
      "            Age     SibSp     Parch      Fare\n",
      "Age    1.000000 -0.308247 -0.189119  0.096067\n",
      "SibSp -0.308247  1.000000  0.414838  0.159651\n",
      "Parch -0.189119  0.414838  1.000000  0.216225\n",
      "Fare   0.096067  0.159651  0.216225  1.000000\n"
     ]
    }
   ],
   "source": [
    "print(df_num.corr())"
   ]
  },
  {
   "cell_type": "code",
   "execution_count": 18,
   "metadata": {
    "execution": {
     "iopub.execute_input": "2021-01-31T22:00:33.470194Z",
     "iopub.status.busy": "2021-01-31T22:00:33.460740Z",
     "iopub.status.idle": "2021-01-31T22:00:33.672121Z",
     "shell.execute_reply": "2021-01-31T22:00:33.671370Z"
    },
    "papermill": {
     "duration": 0.281356,
     "end_time": "2021-01-31T22:00:33.672250",
     "exception": false,
     "start_time": "2021-01-31T22:00:33.390894",
     "status": "completed"
    },
    "tags": []
   },
   "outputs": [
    {
     "data": {
      "text/plain": [
       "<matplotlib.axes._subplots.AxesSubplot at 0x7f184f5a88d0>"
      ]
     },
     "execution_count": 18,
     "metadata": {},
     "output_type": "execute_result"
    },
    {
     "data": {
      "image/png": "[encoded data removed]",
      "text/plain": [
       "<Figure size 432x288 with 2 Axes>"
      ]
     },
     "metadata": {
      "needs_background": "light"
     },
     "output_type": "display_data"
    }
   ],
   "source": [
    "sns.heatmap(df_num.corr())"
   ]
  },
  {
   "cell_type": "code",
   "execution_count": 19,
   "metadata": {
    "execution": {
     "iopub.execute_input": "2021-01-31T22:00:33.806326Z",
     "iopub.status.busy": "2021-01-31T22:00:33.805566Z",
     "iopub.status.idle": "2021-01-31T22:00:33.844305Z",
     "shell.execute_reply": "2021-01-31T22:00:33.843763Z"
    },
    "papermill": {
     "duration": 0.1102,
     "end_time": "2021-01-31T22:00:33.844421",
     "exception": false,
     "start_time": "2021-01-31T22:00:33.734221",
     "status": "completed"
    },
    "tags": []
   },
   "outputs": [
    {
     "data": {
      "text/html": [
       "<div>\n",
       "<style scoped>\n",
       "    .dataframe tbody tr th:only-of-type {\n",
       "        vertical-align: middle;\n",
       "    }\n",
       "\n",
       "    .dataframe tbody tr th {\n",
       "        vertical-align: top;\n",
       "    }\n",
       "\n",
       "    .dataframe thead th {\n",
       "        text-align: right;\n",
       "    }\n",
       "</style>\n",
       "<table border=\"1\" class=\"dataframe\">\n",
       "  <thead>\n",
       "    <tr style=\"text-align: right;\">\n",
       "      <th></th>\n",
       "      <th>Age</th>\n",
       "      <th>Fare</th>\n",
       "      <th>Parch</th>\n",
       "      <th>SibSp</th>\n",
       "    </tr>\n",
       "    <tr>\n",
       "      <th>Survived</th>\n",
       "      <th></th>\n",
       "      <th></th>\n",
       "      <th></th>\n",
       "      <th></th>\n",
       "    </tr>\n",
       "  </thead>\n",
       "  <tbody>\n",
       "    <tr>\n",
       "      <th>0</th>\n",
       "      <td>30.626179</td>\n",
       "      <td>22.117887</td>\n",
       "      <td>0.329690</td>\n",
       "      <td>0.553734</td>\n",
       "    </tr>\n",
       "    <tr>\n",
       "      <th>1</th>\n",
       "      <td>28.343690</td>\n",
       "      <td>48.395408</td>\n",
       "      <td>0.464912</td>\n",
       "      <td>0.473684</td>\n",
       "    </tr>\n",
       "  </tbody>\n",
       "</table>\n",
       "</div>"
      ],
      "text/plain": [
       "                Age       Fare     Parch     SibSp\n",
       "Survived                                          \n",
       "0         30.626179  22.117887  0.329690  0.553734\n",
       "1         28.343690  48.395408  0.464912  0.473684"
      ]
     },
     "execution_count": 19,
     "metadata": {},
     "output_type": "execute_result"
    }
   ],
   "source": [
    "pd.pivot_table(train, index = 'Survived', values = ['Age', 'SibSp', 'Parch', 'Fare'])"
   ]
  },
  {
   "cell_type": "code",
   "execution_count": 20,
   "metadata": {
    "execution": {
     "iopub.execute_input": "2021-01-31T22:00:33.980342Z",
     "iopub.status.busy": "2021-01-31T22:00:33.979677Z",
     "iopub.status.idle": "2021-01-31T22:00:43.887054Z",
     "shell.execute_reply": "2021-01-31T22:00:43.886377Z"
    },
    "papermill": {
     "duration": 9.979703,
     "end_time": "2021-01-31T22:00:43.887177",
     "exception": false,
     "start_time": "2021-01-31T22:00:33.907474",
     "status": "completed"
    },
    "tags": []
   },
   "outputs": [
    {
     "data": {
      "image/png": "[encoded data removed]",
      "text/plain": [
       "<Figure size 432x288 with 1 Axes>"
      ]
     },
     "metadata": {
      "needs_background": "light"
     },
     "output_type": "display_data"
    },
    {
     "data": {
      "image/png": "[encoded data removed]",
      "text/plain": [
       "<Figure size 432x288 with 1 Axes>"
      ]
     },
     "metadata": {
      "needs_background": "light"
     },
     "output_type": "display_data"
    },
    {
     "data": {
      "image/png": "[encoded data removed]",
      "text/plain": [
       "<Figure size 432x288 with 1 Axes>"
      ]
     },
     "metadata": {
      "needs_background": "light"
     },
     "output_type": "display_data"
    },
    {
     "data": {
      "image/png": "[encoded data removed]",
      "text/plain": [
       "<Figure size 432x288 with 1 Axes>"
      ]
     },
     "metadata": {
      "needs_background": "light"
     },
     "output_type": "display_data"
    },
    {
     "data": {
      "image/png": "[encoded data removed]",
      "text/plain": [
       "<Figure size 432x288 with 1 Axes>"
      ]
     },
     "metadata": {
      "needs_background": "light"
     },
     "output_type": "display_data"
    },
    {
     "data": {
      "image/png": "[encoded data removed]",
      "text/plain": [
       "<Figure size 432x288 with 1 Axes>"
      ]
     },
     "metadata": {
      "needs_background": "light"
     },
     "output_type": "display_data"
    }
   ],
   "source": [
    "for i in df_cat.columns:\n",
    "    sns.barplot(df_cat[i].value_counts().index, df_cat[i].value_counts()).set_title(i)\n",
    "    plt.show()"
   ]
  },
  {
   "cell_type": "code",
   "execution_count": 21,
   "metadata": {
    "execution": {
     "iopub.execute_input": "2021-01-31T22:00:44.042834Z",
     "iopub.status.busy": "2021-01-31T22:00:44.036641Z",
     "iopub.status.idle": "2021-01-31T22:00:44.047222Z",
     "shell.execute_reply": "2021-01-31T22:00:44.047735Z"
    },
    "papermill": {
     "duration": 0.092794,
     "end_time": "2021-01-31T22:00:44.047891",
     "exception": false,
     "start_time": "2021-01-31T22:00:43.955097",
     "status": "completed"
    },
    "tags": []
   },
   "outputs": [
    {
     "data": {
      "text/html": [
       "<div>\n",
       "<style scoped>\n",
       "    .dataframe tbody tr th:only-of-type {\n",
       "        vertical-align: middle;\n",
       "    }\n",
       "\n",
       "    .dataframe tbody tr th {\n",
       "        vertical-align: top;\n",
       "    }\n",
       "\n",
       "    .dataframe thead th {\n",
       "        text-align: right;\n",
       "    }\n",
       "</style>\n",
       "<table border=\"1\" class=\"dataframe\">\n",
       "  <thead>\n",
       "    <tr style=\"text-align: right;\">\n",
       "      <th>Pclass</th>\n",
       "      <th>1</th>\n",
       "      <th>2</th>\n",
       "      <th>3</th>\n",
       "    </tr>\n",
       "    <tr>\n",
       "      <th>Survived</th>\n",
       "      <th></th>\n",
       "      <th></th>\n",
       "      <th></th>\n",
       "    </tr>\n",
       "  </thead>\n",
       "  <tbody>\n",
       "    <tr>\n",
       "      <th>0</th>\n",
       "      <td>80</td>\n",
       "      <td>97</td>\n",
       "      <td>372</td>\n",
       "    </tr>\n",
       "    <tr>\n",
       "      <th>1</th>\n",
       "      <td>136</td>\n",
       "      <td>87</td>\n",
       "      <td>119</td>\n",
       "    </tr>\n",
       "  </tbody>\n",
       "</table>\n",
       "</div>"
      ],
      "text/plain": [
       "Pclass      1   2    3\n",
       "Survived              \n",
       "0          80  97  372\n",
       "1         136  87  119"
      ]
     },
     "execution_count": 21,
     "metadata": {},
     "output_type": "execute_result"
    }
   ],
   "source": [
    "pd.pivot_table(train, index = 'Survived', columns = 'Pclass', values = 'Ticket', aggfunc = 'count')"
   ]
  },
  {
   "cell_type": "code",
   "execution_count": 22,
   "metadata": {
    "execution": {
     "iopub.execute_input": "2021-01-31T22:00:44.193290Z",
     "iopub.status.busy": "2021-01-31T22:00:44.192538Z",
     "iopub.status.idle": "2021-01-31T22:00:44.210317Z",
     "shell.execute_reply": "2021-01-31T22:00:44.209724Z"
    },
    "papermill": {
     "duration": 0.094253,
     "end_time": "2021-01-31T22:00:44.210435",
     "exception": false,
     "start_time": "2021-01-31T22:00:44.116182",
     "status": "completed"
    },
    "tags": []
   },
   "outputs": [
    {
     "data": {
      "text/html": [
       "<div>\n",
       "<style scoped>\n",
       "    .dataframe tbody tr th:only-of-type {\n",
       "        vertical-align: middle;\n",
       "    }\n",
       "\n",
       "    .dataframe tbody tr th {\n",
       "        vertical-align: top;\n",
       "    }\n",
       "\n",
       "    .dataframe thead th {\n",
       "        text-align: right;\n",
       "    }\n",
       "</style>\n",
       "<table border=\"1\" class=\"dataframe\">\n",
       "  <thead>\n",
       "    <tr style=\"text-align: right;\">\n",
       "      <th>Sex</th>\n",
       "      <th>female</th>\n",
       "      <th>male</th>\n",
       "    </tr>\n",
       "    <tr>\n",
       "      <th>Survived</th>\n",
       "      <th></th>\n",
       "      <th></th>\n",
       "    </tr>\n",
       "  </thead>\n",
       "  <tbody>\n",
       "    <tr>\n",
       "      <th>0</th>\n",
       "      <td>81</td>\n",
       "      <td>468</td>\n",
       "    </tr>\n",
       "    <tr>\n",
       "      <th>1</th>\n",
       "      <td>233</td>\n",
       "      <td>109</td>\n",
       "    </tr>\n",
       "  </tbody>\n",
       "</table>\n",
       "</div>"
      ],
      "text/plain": [
       "Sex       female  male\n",
       "Survived              \n",
       "0             81   468\n",
       "1            233   109"
      ]
     },
     "execution_count": 22,
     "metadata": {},
     "output_type": "execute_result"
    }
   ],
   "source": [
    "pd.pivot_table(train, index = 'Survived', columns = 'Sex', values = 'Ticket', aggfunc = 'count')"
   ]
  },
  {
   "cell_type": "code",
   "execution_count": 23,
   "metadata": {
    "execution": {
     "iopub.execute_input": "2021-01-31T22:00:44.356955Z",
     "iopub.status.busy": "2021-01-31T22:00:44.356216Z",
     "iopub.status.idle": "2021-01-31T22:00:44.370631Z",
     "shell.execute_reply": "2021-01-31T22:00:44.371145Z"
    },
    "papermill": {
     "duration": 0.092201,
     "end_time": "2021-01-31T22:00:44.371300",
     "exception": false,
     "start_time": "2021-01-31T22:00:44.279099",
     "status": "completed"
    },
    "tags": []
   },
   "outputs": [
    {
     "data": {
      "text/html": [
       "<div>\n",
       "<style scoped>\n",
       "    .dataframe tbody tr th:only-of-type {\n",
       "        vertical-align: middle;\n",
       "    }\n",
       "\n",
       "    .dataframe tbody tr th {\n",
       "        vertical-align: top;\n",
       "    }\n",
       "\n",
       "    .dataframe thead th {\n",
       "        text-align: right;\n",
       "    }\n",
       "</style>\n",
       "<table border=\"1\" class=\"dataframe\">\n",
       "  <thead>\n",
       "    <tr style=\"text-align: right;\">\n",
       "      <th>Embarked</th>\n",
       "      <th>C</th>\n",
       "      <th>Q</th>\n",
       "      <th>S</th>\n",
       "    </tr>\n",
       "    <tr>\n",
       "      <th>Survived</th>\n",
       "      <th></th>\n",
       "      <th></th>\n",
       "      <th></th>\n",
       "    </tr>\n",
       "  </thead>\n",
       "  <tbody>\n",
       "    <tr>\n",
       "      <th>0</th>\n",
       "      <td>75</td>\n",
       "      <td>47</td>\n",
       "      <td>427</td>\n",
       "    </tr>\n",
       "    <tr>\n",
       "      <th>1</th>\n",
       "      <td>93</td>\n",
       "      <td>30</td>\n",
       "      <td>217</td>\n",
       "    </tr>\n",
       "  </tbody>\n",
       "</table>\n",
       "</div>"
      ],
      "text/plain": [
       "Embarked   C   Q    S\n",
       "Survived             \n",
       "0         75  47  427\n",
       "1         93  30  217"
      ]
     },
     "execution_count": 23,
     "metadata": {},
     "output_type": "execute_result"
    }
   ],
   "source": [
    "pd.pivot_table(train, index = 'Survived', columns = 'Embarked', values = 'Ticket', aggfunc = 'count')"
   ]
  },
  {
   "cell_type": "code",
   "execution_count": 24,
   "metadata": {
    "execution": {
     "iopub.execute_input": "2021-01-31T22:00:44.513446Z",
     "iopub.status.busy": "2021-01-31T22:00:44.512760Z",
     "iopub.status.idle": "2021-01-31T22:00:44.527993Z",
     "shell.execute_reply": "2021-01-31T22:00:44.527423Z"
    },
    "papermill": {
     "duration": 0.086995,
     "end_time": "2021-01-31T22:00:44.528119",
     "exception": false,
     "start_time": "2021-01-31T22:00:44.441124",
     "status": "completed"
    },
    "tags": []
   },
   "outputs": [
    {
     "data": {
      "text/html": [
       "<div>\n",
       "<style scoped>\n",
       "    .dataframe tbody tr th:only-of-type {\n",
       "        vertical-align: middle;\n",
       "    }\n",
       "\n",
       "    .dataframe tbody tr th {\n",
       "        vertical-align: top;\n",
       "    }\n",
       "\n",
       "    .dataframe thead th {\n",
       "        text-align: right;\n",
       "    }\n",
       "</style>\n",
       "<table border=\"1\" class=\"dataframe\">\n",
       "  <thead>\n",
       "    <tr style=\"text-align: right;\">\n",
       "      <th></th>\n",
       "      <th>Pclass</th>\n",
       "      <th>Survived</th>\n",
       "    </tr>\n",
       "  </thead>\n",
       "  <tbody>\n",
       "    <tr>\n",
       "      <th>0</th>\n",
       "      <td>1</td>\n",
       "      <td>0.629630</td>\n",
       "    </tr>\n",
       "    <tr>\n",
       "      <th>1</th>\n",
       "      <td>2</td>\n",
       "      <td>0.472826</td>\n",
       "    </tr>\n",
       "    <tr>\n",
       "      <th>2</th>\n",
       "      <td>3</td>\n",
       "      <td>0.242363</td>\n",
       "    </tr>\n",
       "  </tbody>\n",
       "</table>\n",
       "</div>"
      ],
      "text/plain": [
       "   Pclass  Survived\n",
       "0       1  0.629630\n",
       "1       2  0.472826\n",
       "2       3  0.242363"
      ]
     },
     "execution_count": 24,
     "metadata": {},
     "output_type": "execute_result"
    }
   ],
   "source": [
    "train[['Pclass', 'Survived']].groupby('Pclass', as_index = False).mean().sort_values(by='Survived', ascending = False)"
   ]
  },
  {
   "cell_type": "code",
   "execution_count": 25,
   "metadata": {
    "execution": {
     "iopub.execute_input": "2021-01-31T22:00:44.679884Z",
     "iopub.status.busy": "2021-01-31T22:00:44.678821Z",
     "iopub.status.idle": "2021-01-31T22:00:44.689733Z",
     "shell.execute_reply": "2021-01-31T22:00:44.690452Z"
    },
    "papermill": {
     "duration": 0.092861,
     "end_time": "2021-01-31T22:00:44.690627",
     "exception": false,
     "start_time": "2021-01-31T22:00:44.597766",
     "status": "completed"
    },
    "tags": []
   },
   "outputs": [
    {
     "data": {
      "text/html": [
       "<div>\n",
       "<style scoped>\n",
       "    .dataframe tbody tr th:only-of-type {\n",
       "        vertical-align: middle;\n",
       "    }\n",
       "\n",
       "    .dataframe tbody tr th {\n",
       "        vertical-align: top;\n",
       "    }\n",
       "\n",
       "    .dataframe thead th {\n",
       "        text-align: right;\n",
       "    }\n",
       "</style>\n",
       "<table border=\"1\" class=\"dataframe\">\n",
       "  <thead>\n",
       "    <tr style=\"text-align: right;\">\n",
       "      <th></th>\n",
       "      <th>Embarked</th>\n",
       "      <th>Survived</th>\n",
       "    </tr>\n",
       "  </thead>\n",
       "  <tbody>\n",
       "    <tr>\n",
       "      <th>0</th>\n",
       "      <td>C</td>\n",
       "      <td>0.553571</td>\n",
       "    </tr>\n",
       "    <tr>\n",
       "      <th>1</th>\n",
       "      <td>Q</td>\n",
       "      <td>0.389610</td>\n",
       "    </tr>\n",
       "    <tr>\n",
       "      <th>2</th>\n",
       "      <td>S</td>\n",
       "      <td>0.336957</td>\n",
       "    </tr>\n",
       "  </tbody>\n",
       "</table>\n",
       "</div>"
      ],
      "text/plain": [
       "  Embarked  Survived\n",
       "0        C  0.553571\n",
       "1        Q  0.389610\n",
       "2        S  0.336957"
      ]
     },
     "execution_count": 25,
     "metadata": {},
     "output_type": "execute_result"
    }
   ],
   "source": [
    "train[['Embarked', 'Survived']].groupby('Embarked', as_index = False).mean().sort_values(by='Survived', ascending = False)"
   ]
  },
  {
   "cell_type": "markdown",
   "metadata": {
    "papermill": {
     "duration": 0.069957,
     "end_time": "2021-01-31T22:00:44.831693",
     "exception": false,
     "start_time": "2021-01-31T22:00:44.761736",
     "status": "completed"
    },
    "tags": []
   },
   "source": [
    "# Feature Engineerinig"
   ]
  },
  {
   "cell_type": "code",
   "execution_count": 26,
   "metadata": {
    "execution": {
     "iopub.execute_input": "2021-01-31T22:00:44.983890Z",
     "iopub.status.busy": "2021-01-31T22:00:44.983108Z",
     "iopub.status.idle": "2021-01-31T22:00:44.986453Z",
     "shell.execute_reply": "2021-01-31T22:00:44.986948Z"
    },
    "papermill": {
     "duration": 0.084983,
     "end_time": "2021-01-31T22:00:44.987099",
     "exception": false,
     "start_time": "2021-01-31T22:00:44.902116",
     "status": "completed"
    },
    "tags": []
   },
   "outputs": [
    {
     "data": {
      "text/plain": [
       "0    687\n",
       "1    180\n",
       "2     16\n",
       "3      6\n",
       "4      2\n",
       "Name: cabin_multiple, dtype: int64"
      ]
     },
     "execution_count": 26,
     "metadata": {},
     "output_type": "execute_result"
    }
   ],
   "source": [
    "df_cat.Cabin\n",
    "train['cabin_multiple'] = train.Cabin.apply(lambda x: 0 if pd.isna(x) else len(x.split(' ')))\n",
    "train['cabin_multiple'].value_counts()"
   ]
  },
  {
   "cell_type": "code",
   "execution_count": 27,
   "metadata": {
    "execution": {
     "iopub.execute_input": "2021-01-31T22:00:45.131241Z",
     "iopub.status.busy": "2021-01-31T22:00:45.130599Z",
     "iopub.status.idle": "2021-01-31T22:00:45.146903Z",
     "shell.execute_reply": "2021-01-31T22:00:45.146326Z"
    },
    "papermill": {
     "duration": 0.089515,
     "end_time": "2021-01-31T22:00:45.147026",
     "exception": false,
     "start_time": "2021-01-31T22:00:45.057511",
     "status": "completed"
    },
    "tags": []
   },
   "outputs": [
    {
     "data": {
      "text/html": [
       "<div>\n",
       "<style scoped>\n",
       "    .dataframe tbody tr th:only-of-type {\n",
       "        vertical-align: middle;\n",
       "    }\n",
       "\n",
       "    .dataframe tbody tr th {\n",
       "        vertical-align: top;\n",
       "    }\n",
       "\n",
       "    .dataframe thead th {\n",
       "        text-align: right;\n",
       "    }\n",
       "</style>\n",
       "<table border=\"1\" class=\"dataframe\">\n",
       "  <thead>\n",
       "    <tr style=\"text-align: right;\">\n",
       "      <th></th>\n",
       "      <th>index</th>\n",
       "      <th>cabin_multiple</th>\n",
       "      <th>Survived</th>\n",
       "    </tr>\n",
       "  </thead>\n",
       "  <tbody>\n",
       "    <tr>\n",
       "      <th>0</th>\n",
       "      <td>4</td>\n",
       "      <td>4</td>\n",
       "      <td>1.000000</td>\n",
       "    </tr>\n",
       "    <tr>\n",
       "      <th>1</th>\n",
       "      <td>1</td>\n",
       "      <td>1</td>\n",
       "      <td>0.677778</td>\n",
       "    </tr>\n",
       "    <tr>\n",
       "      <th>2</th>\n",
       "      <td>2</td>\n",
       "      <td>2</td>\n",
       "      <td>0.562500</td>\n",
       "    </tr>\n",
       "    <tr>\n",
       "      <th>3</th>\n",
       "      <td>3</td>\n",
       "      <td>3</td>\n",
       "      <td>0.500000</td>\n",
       "    </tr>\n",
       "    <tr>\n",
       "      <th>4</th>\n",
       "      <td>0</td>\n",
       "      <td>0</td>\n",
       "      <td>0.299854</td>\n",
       "    </tr>\n",
       "  </tbody>\n",
       "</table>\n",
       "</div>"
      ],
      "text/plain": [
       "   index  cabin_multiple  Survived\n",
       "0      4               4  1.000000\n",
       "1      1               1  0.677778\n",
       "2      2               2  0.562500\n",
       "3      3               3  0.500000\n",
       "4      0               0  0.299854"
      ]
     },
     "execution_count": 27,
     "metadata": {},
     "output_type": "execute_result"
    }
   ],
   "source": [
    "train[['cabin_multiple', 'Survived']].groupby('cabin_multiple', as_index = False).mean().sort_values(by='Survived', ascending = False).reset_index()"
   ]
  },
  {
   "cell_type": "code",
   "execution_count": 28,
   "metadata": {
    "execution": {
     "iopub.execute_input": "2021-01-31T22:00:45.301742Z",
     "iopub.status.busy": "2021-01-31T22:00:45.300630Z",
     "iopub.status.idle": "2021-01-31T22:00:45.304923Z",
     "shell.execute_reply": "2021-01-31T22:00:45.304384Z"
    },
    "papermill": {
     "duration": 0.085903,
     "end_time": "2021-01-31T22:00:45.305033",
     "exception": false,
     "start_time": "2021-01-31T22:00:45.219130",
     "status": "completed"
    },
    "tags": []
   },
   "outputs": [
    {
     "data": {
      "text/plain": [
       "n    687\n",
       "C     59\n",
       "B     47\n",
       "D     33\n",
       "E     32\n",
       "A     15\n",
       "F     13\n",
       "G      4\n",
       "T      1\n",
       "Name: cabin_adv, dtype: int64"
      ]
     },
     "execution_count": 28,
     "metadata": {},
     "output_type": "execute_result"
    }
   ],
   "source": [
    "train['cabin_adv'] = train.Cabin.apply(lambda x: str(x)[0])\n",
    "train['cabin_adv'].value_counts()"
   ]
  },
  {
   "cell_type": "code",
   "execution_count": 29,
   "metadata": {
    "execution": {
     "iopub.execute_input": "2021-01-31T22:00:45.457589Z",
     "iopub.status.busy": "2021-01-31T22:00:45.456776Z",
     "iopub.status.idle": "2021-01-31T22:00:45.469591Z",
     "shell.execute_reply": "2021-01-31T22:00:45.469033Z"
    },
    "papermill": {
     "duration": 0.092956,
     "end_time": "2021-01-31T22:00:45.469700",
     "exception": false,
     "start_time": "2021-01-31T22:00:45.376744",
     "status": "completed"
    },
    "tags": []
   },
   "outputs": [
    {
     "data": {
      "text/html": [
       "<div>\n",
       "<style scoped>\n",
       "    .dataframe tbody tr th:only-of-type {\n",
       "        vertical-align: middle;\n",
       "    }\n",
       "\n",
       "    .dataframe tbody tr th {\n",
       "        vertical-align: top;\n",
       "    }\n",
       "\n",
       "    .dataframe thead th {\n",
       "        text-align: right;\n",
       "    }\n",
       "</style>\n",
       "<table border=\"1\" class=\"dataframe\">\n",
       "  <thead>\n",
       "    <tr style=\"text-align: right;\">\n",
       "      <th></th>\n",
       "      <th>index</th>\n",
       "      <th>cabin_adv</th>\n",
       "      <th>Survived</th>\n",
       "    </tr>\n",
       "  </thead>\n",
       "  <tbody>\n",
       "    <tr>\n",
       "      <th>0</th>\n",
       "      <td>3</td>\n",
       "      <td>D</td>\n",
       "      <td>0.757576</td>\n",
       "    </tr>\n",
       "    <tr>\n",
       "      <th>1</th>\n",
       "      <td>4</td>\n",
       "      <td>E</td>\n",
       "      <td>0.750000</td>\n",
       "    </tr>\n",
       "    <tr>\n",
       "      <th>2</th>\n",
       "      <td>1</td>\n",
       "      <td>B</td>\n",
       "      <td>0.744681</td>\n",
       "    </tr>\n",
       "    <tr>\n",
       "      <th>3</th>\n",
       "      <td>5</td>\n",
       "      <td>F</td>\n",
       "      <td>0.615385</td>\n",
       "    </tr>\n",
       "    <tr>\n",
       "      <th>4</th>\n",
       "      <td>2</td>\n",
       "      <td>C</td>\n",
       "      <td>0.593220</td>\n",
       "    </tr>\n",
       "    <tr>\n",
       "      <th>5</th>\n",
       "      <td>6</td>\n",
       "      <td>G</td>\n",
       "      <td>0.500000</td>\n",
       "    </tr>\n",
       "    <tr>\n",
       "      <th>6</th>\n",
       "      <td>0</td>\n",
       "      <td>A</td>\n",
       "      <td>0.466667</td>\n",
       "    </tr>\n",
       "    <tr>\n",
       "      <th>7</th>\n",
       "      <td>8</td>\n",
       "      <td>n</td>\n",
       "      <td>0.299854</td>\n",
       "    </tr>\n",
       "    <tr>\n",
       "      <th>8</th>\n",
       "      <td>7</td>\n",
       "      <td>T</td>\n",
       "      <td>0.000000</td>\n",
       "    </tr>\n",
       "  </tbody>\n",
       "</table>\n",
       "</div>"
      ],
      "text/plain": [
       "   index cabin_adv  Survived\n",
       "0      3         D  0.757576\n",
       "1      4         E  0.750000\n",
       "2      1         B  0.744681\n",
       "3      5         F  0.615385\n",
       "4      2         C  0.593220\n",
       "5      6         G  0.500000\n",
       "6      0         A  0.466667\n",
       "7      8         n  0.299854\n",
       "8      7         T  0.000000"
      ]
     },
     "execution_count": 29,
     "metadata": {},
     "output_type": "execute_result"
    }
   ],
   "source": [
    "train[['cabin_adv', 'Survived']].groupby('cabin_adv', as_index = False).mean().sort_values(by='Survived', ascending = False).reset_index()"
   ]
  },
  {
   "cell_type": "code",
   "execution_count": 30,
   "metadata": {
    "execution": {
     "iopub.execute_input": "2021-01-31T22:00:45.622498Z",
     "iopub.status.busy": "2021-01-31T22:00:45.621823Z",
     "iopub.status.idle": "2021-01-31T22:00:45.624876Z",
     "shell.execute_reply": "2021-01-31T22:00:45.624268Z"
    },
    "papermill": {
     "duration": 0.082839,
     "end_time": "2021-01-31T22:00:45.624993",
     "exception": false,
     "start_time": "2021-01-31T22:00:45.542154",
     "status": "completed"
    },
    "tags": []
   },
   "outputs": [],
   "source": [
    "train['numeric_ticket'] = train.Ticket.apply(lambda x: 1 if x.isnumeric() else 0)"
   ]
  },
  {
   "cell_type": "code",
   "execution_count": 31,
   "metadata": {
    "execution": {
     "iopub.execute_input": "2021-01-31T22:00:45.777833Z",
     "iopub.status.busy": "2021-01-31T22:00:45.777092Z",
     "iopub.status.idle": "2021-01-31T22:00:45.781712Z",
     "shell.execute_reply": "2021-01-31T22:00:45.781059Z"
    },
    "papermill": {
     "duration": 0.084756,
     "end_time": "2021-01-31T22:00:45.781847",
     "exception": false,
     "start_time": "2021-01-31T22:00:45.697091",
     "status": "completed"
    },
    "tags": []
   },
   "outputs": [
    {
     "data": {
      "text/plain": [
       "1    661\n",
       "0    230\n",
       "Name: numeric_ticket, dtype: int64"
      ]
     },
     "execution_count": 31,
     "metadata": {},
     "output_type": "execute_result"
    }
   ],
   "source": [
    "train['numeric_ticket'].value_counts()"
   ]
  },
  {
   "cell_type": "code",
   "execution_count": 32,
   "metadata": {
    "execution": {
     "iopub.execute_input": "2021-01-31T22:00:45.939077Z",
     "iopub.status.busy": "2021-01-31T22:00:45.938358Z",
     "iopub.status.idle": "2021-01-31T22:00:45.941017Z",
     "shell.execute_reply": "2021-01-31T22:00:45.941528Z"
    },
    "papermill": {
     "duration": 0.086166,
     "end_time": "2021-01-31T22:00:45.941679",
     "exception": false,
     "start_time": "2021-01-31T22:00:45.855513",
     "status": "completed"
    },
    "tags": []
   },
   "outputs": [],
   "source": [
    "train['letter_ticket'] = train.Ticket.apply(lambda x: ''.join\n",
    "(x.split(' ')[:-1]).replace('.', '').replace('/', '').lower() if len(x.split(' ')[-1]) >0 else 0)"
   ]
  },
  {
   "cell_type": "code",
   "execution_count": 33,
   "metadata": {
    "execution": {
     "iopub.execute_input": "2021-01-31T22:00:46.096864Z",
     "iopub.status.busy": "2021-01-31T22:00:46.096160Z",
     "iopub.status.idle": "2021-01-31T22:00:46.100591Z",
     "shell.execute_reply": "2021-01-31T22:00:46.100092Z"
    },
    "papermill": {
     "duration": 0.085801,
     "end_time": "2021-01-31T22:00:46.100701",
     "exception": false,
     "start_time": "2021-01-31T22:00:46.014900",
     "status": "completed"
    },
    "tags": []
   },
   "outputs": [
    {
     "data": {
      "text/plain": [
       "             665\n",
       "pc            60\n",
       "ca            41\n",
       "a5            21\n",
       "stono2        18\n",
       "sotonoq       15\n",
       "scparis       11\n",
       "wc            10\n",
       "a4             7\n",
       "soc            6\n",
       "fcc            5\n",
       "c              5\n",
       "wep            3\n",
       "sopp           3\n",
       "pp             3\n",
       "sotono2        2\n",
       "scah           2\n",
       "ppp            2\n",
       "swpp           2\n",
       "as             1\n",
       "scow           1\n",
       "fc             1\n",
       "fa             1\n",
       "scahbasle      1\n",
       "sc             1\n",
       "sp             1\n",
       "sop            1\n",
       "sca4           1\n",
       "casoton        1\n",
       "Name: letter_ticket, dtype: int64"
      ]
     },
     "execution_count": 33,
     "metadata": {},
     "output_type": "execute_result"
    }
   ],
   "source": [
    "pd.set_option('max_rows', None)\n",
    "train['letter_ticket'].value_counts()"
   ]
  },
  {
   "cell_type": "code",
   "execution_count": 34,
   "metadata": {
    "execution": {
     "iopub.execute_input": "2021-01-31T22:00:46.262599Z",
     "iopub.status.busy": "2021-01-31T22:00:46.256481Z",
     "iopub.status.idle": "2021-01-31T22:00:46.266507Z",
     "shell.execute_reply": "2021-01-31T22:00:46.265909Z"
    },
    "papermill": {
     "duration": 0.092154,
     "end_time": "2021-01-31T22:00:46.266628",
     "exception": false,
     "start_time": "2021-01-31T22:00:46.174474",
     "status": "completed"
    },
    "tags": []
   },
   "outputs": [
    {
     "data": {
      "text/html": [
       "<div>\n",
       "<style scoped>\n",
       "    .dataframe tbody tr th:only-of-type {\n",
       "        vertical-align: middle;\n",
       "    }\n",
       "\n",
       "    .dataframe tbody tr th {\n",
       "        vertical-align: top;\n",
       "    }\n",
       "\n",
       "    .dataframe thead th {\n",
       "        text-align: right;\n",
       "    }\n",
       "</style>\n",
       "<table border=\"1\" class=\"dataframe\">\n",
       "  <thead>\n",
       "    <tr style=\"text-align: right;\">\n",
       "      <th></th>\n",
       "      <th>numeric_ticket</th>\n",
       "      <th>Survived</th>\n",
       "    </tr>\n",
       "  </thead>\n",
       "  <tbody>\n",
       "    <tr>\n",
       "      <th>1</th>\n",
       "      <td>1</td>\n",
       "      <td>0.384266</td>\n",
       "    </tr>\n",
       "    <tr>\n",
       "      <th>0</th>\n",
       "      <td>0</td>\n",
       "      <td>0.382609</td>\n",
       "    </tr>\n",
       "  </tbody>\n",
       "</table>\n",
       "</div>"
      ],
      "text/plain": [
       "   numeric_ticket  Survived\n",
       "1               1  0.384266\n",
       "0               0  0.382609"
      ]
     },
     "execution_count": 34,
     "metadata": {},
     "output_type": "execute_result"
    }
   ],
   "source": [
    "train[['numeric_ticket', 'Survived']].groupby('numeric_ticket', as_index = False).mean().sort_values(by = 'Survived', ascending = False)"
   ]
  },
  {
   "cell_type": "code",
   "execution_count": 35,
   "metadata": {
    "execution": {
     "iopub.execute_input": "2021-01-31T22:00:46.432865Z",
     "iopub.status.busy": "2021-01-31T22:00:46.423098Z",
     "iopub.status.idle": "2021-01-31T22:00:46.437714Z",
     "shell.execute_reply": "2021-01-31T22:00:46.437123Z"
    },
    "papermill": {
     "duration": 0.096505,
     "end_time": "2021-01-31T22:00:46.437844",
     "exception": false,
     "start_time": "2021-01-31T22:00:46.341339",
     "status": "completed"
    },
    "tags": []
   },
   "outputs": [
    {
     "data": {
      "text/html": [
       "<div>\n",
       "<style scoped>\n",
       "    .dataframe tbody tr th:only-of-type {\n",
       "        vertical-align: middle;\n",
       "    }\n",
       "\n",
       "    .dataframe tbody tr th {\n",
       "        vertical-align: top;\n",
       "    }\n",
       "\n",
       "    .dataframe thead th {\n",
       "        text-align: right;\n",
       "    }\n",
       "</style>\n",
       "<table border=\"1\" class=\"dataframe\">\n",
       "  <thead>\n",
       "    <tr style=\"text-align: right;\">\n",
       "      <th></th>\n",
       "      <th>letter_ticket</th>\n",
       "      <th>Survived</th>\n",
       "    </tr>\n",
       "  </thead>\n",
       "  <tbody>\n",
       "    <tr>\n",
       "      <th>13</th>\n",
       "      <td>sc</td>\n",
       "      <td>1.000000</td>\n",
       "    </tr>\n",
       "    <tr>\n",
       "      <th>26</th>\n",
       "      <td>swpp</td>\n",
       "      <td>1.000000</td>\n",
       "    </tr>\n",
       "    <tr>\n",
       "      <th>16</th>\n",
       "      <td>scahbasle</td>\n",
       "      <td>1.000000</td>\n",
       "    </tr>\n",
       "    <tr>\n",
       "      <th>9</th>\n",
       "      <td>fcc</td>\n",
       "      <td>0.800000</td>\n",
       "    </tr>\n",
       "    <tr>\n",
       "      <th>11</th>\n",
       "      <td>pp</td>\n",
       "      <td>0.666667</td>\n",
       "    </tr>\n",
       "    <tr>\n",
       "      <th>10</th>\n",
       "      <td>pc</td>\n",
       "      <td>0.650000</td>\n",
       "    </tr>\n",
       "    <tr>\n",
       "      <th>15</th>\n",
       "      <td>scah</td>\n",
       "      <td>0.500000</td>\n",
       "    </tr>\n",
       "    <tr>\n",
       "      <th>12</th>\n",
       "      <td>ppp</td>\n",
       "      <td>0.500000</td>\n",
       "    </tr>\n",
       "    <tr>\n",
       "      <th>18</th>\n",
       "      <td>scparis</td>\n",
       "      <td>0.454545</td>\n",
       "    </tr>\n",
       "    <tr>\n",
       "      <th>25</th>\n",
       "      <td>stono2</td>\n",
       "      <td>0.444444</td>\n",
       "    </tr>\n",
       "    <tr>\n",
       "      <th>4</th>\n",
       "      <td>c</td>\n",
       "      <td>0.400000</td>\n",
       "    </tr>\n",
       "    <tr>\n",
       "      <th>0</th>\n",
       "      <td></td>\n",
       "      <td>0.383459</td>\n",
       "    </tr>\n",
       "    <tr>\n",
       "      <th>5</th>\n",
       "      <td>ca</td>\n",
       "      <td>0.341463</td>\n",
       "    </tr>\n",
       "    <tr>\n",
       "      <th>28</th>\n",
       "      <td>wep</td>\n",
       "      <td>0.333333</td>\n",
       "    </tr>\n",
       "    <tr>\n",
       "      <th>19</th>\n",
       "      <td>soc</td>\n",
       "      <td>0.166667</td>\n",
       "    </tr>\n",
       "    <tr>\n",
       "      <th>23</th>\n",
       "      <td>sotonoq</td>\n",
       "      <td>0.133333</td>\n",
       "    </tr>\n",
       "    <tr>\n",
       "      <th>27</th>\n",
       "      <td>wc</td>\n",
       "      <td>0.100000</td>\n",
       "    </tr>\n",
       "    <tr>\n",
       "      <th>2</th>\n",
       "      <td>a5</td>\n",
       "      <td>0.095238</td>\n",
       "    </tr>\n",
       "    <tr>\n",
       "      <th>1</th>\n",
       "      <td>a4</td>\n",
       "      <td>0.000000</td>\n",
       "    </tr>\n",
       "    <tr>\n",
       "      <th>8</th>\n",
       "      <td>fc</td>\n",
       "      <td>0.000000</td>\n",
       "    </tr>\n",
       "    <tr>\n",
       "      <th>7</th>\n",
       "      <td>fa</td>\n",
       "      <td>0.000000</td>\n",
       "    </tr>\n",
       "    <tr>\n",
       "      <th>17</th>\n",
       "      <td>scow</td>\n",
       "      <td>0.000000</td>\n",
       "    </tr>\n",
       "    <tr>\n",
       "      <th>6</th>\n",
       "      <td>casoton</td>\n",
       "      <td>0.000000</td>\n",
       "    </tr>\n",
       "    <tr>\n",
       "      <th>20</th>\n",
       "      <td>sop</td>\n",
       "      <td>0.000000</td>\n",
       "    </tr>\n",
       "    <tr>\n",
       "      <th>21</th>\n",
       "      <td>sopp</td>\n",
       "      <td>0.000000</td>\n",
       "    </tr>\n",
       "    <tr>\n",
       "      <th>22</th>\n",
       "      <td>sotono2</td>\n",
       "      <td>0.000000</td>\n",
       "    </tr>\n",
       "    <tr>\n",
       "      <th>24</th>\n",
       "      <td>sp</td>\n",
       "      <td>0.000000</td>\n",
       "    </tr>\n",
       "    <tr>\n",
       "      <th>3</th>\n",
       "      <td>as</td>\n",
       "      <td>0.000000</td>\n",
       "    </tr>\n",
       "    <tr>\n",
       "      <th>14</th>\n",
       "      <td>sca4</td>\n",
       "      <td>0.000000</td>\n",
       "    </tr>\n",
       "  </tbody>\n",
       "</table>\n",
       "</div>"
      ],
      "text/plain": [
       "   letter_ticket  Survived\n",
       "13            sc  1.000000\n",
       "26          swpp  1.000000\n",
       "16     scahbasle  1.000000\n",
       "9            fcc  0.800000\n",
       "11            pp  0.666667\n",
       "10            pc  0.650000\n",
       "15          scah  0.500000\n",
       "12           ppp  0.500000\n",
       "18       scparis  0.454545\n",
       "25        stono2  0.444444\n",
       "4              c  0.400000\n",
       "0                 0.383459\n",
       "5             ca  0.341463\n",
       "28           wep  0.333333\n",
       "19           soc  0.166667\n",
       "23       sotonoq  0.133333\n",
       "27            wc  0.100000\n",
       "2             a5  0.095238\n",
       "1             a4  0.000000\n",
       "8             fc  0.000000\n",
       "7             fa  0.000000\n",
       "17          scow  0.000000\n",
       "6        casoton  0.000000\n",
       "20           sop  0.000000\n",
       "21          sopp  0.000000\n",
       "22       sotono2  0.000000\n",
       "24            sp  0.000000\n",
       "3             as  0.000000\n",
       "14          sca4  0.000000"
      ]
     },
     "execution_count": 35,
     "metadata": {},
     "output_type": "execute_result"
    }
   ],
   "source": [
    "train[['letter_ticket', 'Survived']].groupby('letter_ticket', as_index = False).mean().sort_values(by = 'Survived', ascending = False)"
   ]
  },
  {
   "cell_type": "code",
   "execution_count": 36,
   "metadata": {
    "execution": {
     "iopub.execute_input": "2021-01-31T22:00:46.595704Z",
     "iopub.status.busy": "2021-01-31T22:00:46.595038Z",
     "iopub.status.idle": "2021-01-31T22:00:46.598401Z",
     "shell.execute_reply": "2021-01-31T22:00:46.597886Z"
    },
    "papermill": {
     "duration": 0.085605,
     "end_time": "2021-01-31T22:00:46.598512",
     "exception": false,
     "start_time": "2021-01-31T22:00:46.512907",
     "status": "completed"
    },
    "tags": []
   },
   "outputs": [],
   "source": [
    "train['name_title'] = train.Name.apply(lambda x: x.split(',')[1].split('.')[0])"
   ]
  },
  {
   "cell_type": "code",
   "execution_count": 37,
   "metadata": {
    "execution": {
     "iopub.execute_input": "2021-01-31T22:00:46.757192Z",
     "iopub.status.busy": "2021-01-31T22:00:46.756179Z",
     "iopub.status.idle": "2021-01-31T22:00:46.760331Z",
     "shell.execute_reply": "2021-01-31T22:00:46.759639Z"
    },
    "papermill": {
     "duration": 0.086982,
     "end_time": "2021-01-31T22:00:46.760445",
     "exception": false,
     "start_time": "2021-01-31T22:00:46.673463",
     "status": "completed"
    },
    "tags": []
   },
   "outputs": [
    {
     "data": {
      "text/plain": [
       " Mr              517\n",
       " Miss            182\n",
       " Mrs             125\n",
       " Master           40\n",
       " Dr                7\n",
       " Rev               6\n",
       " Col               2\n",
       " Mlle              2\n",
       " Major             2\n",
       " Capt              1\n",
       " Lady              1\n",
       " Jonkheer          1\n",
       " Mme               1\n",
       " the Countess      1\n",
       " Ms                1\n",
       " Don               1\n",
       " Sir               1\n",
       "Name: name_title, dtype: int64"
      ]
     },
     "execution_count": 37,
     "metadata": {},
     "output_type": "execute_result"
    }
   ],
   "source": [
    "train['name_title'].value_counts()"
   ]
  },
  {
   "cell_type": "code",
   "execution_count": 38,
   "metadata": {
    "execution": {
     "iopub.execute_input": "2021-01-31T22:00:46.939383Z",
     "iopub.status.busy": "2021-01-31T22:00:46.936716Z",
     "iopub.status.idle": "2021-01-31T22:00:46.952190Z",
     "shell.execute_reply": "2021-01-31T22:00:46.951625Z"
    },
    "papermill": {
     "duration": 0.102842,
     "end_time": "2021-01-31T22:00:46.952311",
     "exception": false,
     "start_time": "2021-01-31T22:00:46.849469",
     "status": "completed"
    },
    "tags": []
   },
   "outputs": [
    {
     "data": {
      "text/html": [
       "<div>\n",
       "<style scoped>\n",
       "    .dataframe tbody tr th:only-of-type {\n",
       "        vertical-align: middle;\n",
       "    }\n",
       "\n",
       "    .dataframe tbody tr th {\n",
       "        vertical-align: top;\n",
       "    }\n",
       "\n",
       "    .dataframe thead th {\n",
       "        text-align: right;\n",
       "    }\n",
       "</style>\n",
       "<table border=\"1\" class=\"dataframe\">\n",
       "  <thead>\n",
       "    <tr style=\"text-align: right;\">\n",
       "      <th></th>\n",
       "      <th>name_title</th>\n",
       "      <th>Survived</th>\n",
       "    </tr>\n",
       "  </thead>\n",
       "  <tbody>\n",
       "    <tr>\n",
       "      <th>16</th>\n",
       "      <td>the Countess</td>\n",
       "      <td>1.000000</td>\n",
       "    </tr>\n",
       "    <tr>\n",
       "      <th>9</th>\n",
       "      <td>Mlle</td>\n",
       "      <td>1.000000</td>\n",
       "    </tr>\n",
       "    <tr>\n",
       "      <th>15</th>\n",
       "      <td>Sir</td>\n",
       "      <td>1.000000</td>\n",
       "    </tr>\n",
       "    <tr>\n",
       "      <th>13</th>\n",
       "      <td>Ms</td>\n",
       "      <td>1.000000</td>\n",
       "    </tr>\n",
       "    <tr>\n",
       "      <th>5</th>\n",
       "      <td>Lady</td>\n",
       "      <td>1.000000</td>\n",
       "    </tr>\n",
       "    <tr>\n",
       "      <th>10</th>\n",
       "      <td>Mme</td>\n",
       "      <td>1.000000</td>\n",
       "    </tr>\n",
       "    <tr>\n",
       "      <th>12</th>\n",
       "      <td>Mrs</td>\n",
       "      <td>0.792000</td>\n",
       "    </tr>\n",
       "    <tr>\n",
       "      <th>8</th>\n",
       "      <td>Miss</td>\n",
       "      <td>0.697802</td>\n",
       "    </tr>\n",
       "    <tr>\n",
       "      <th>7</th>\n",
       "      <td>Master</td>\n",
       "      <td>0.575000</td>\n",
       "    </tr>\n",
       "    <tr>\n",
       "      <th>1</th>\n",
       "      <td>Col</td>\n",
       "      <td>0.500000</td>\n",
       "    </tr>\n",
       "    <tr>\n",
       "      <th>6</th>\n",
       "      <td>Major</td>\n",
       "      <td>0.500000</td>\n",
       "    </tr>\n",
       "    <tr>\n",
       "      <th>3</th>\n",
       "      <td>Dr</td>\n",
       "      <td>0.428571</td>\n",
       "    </tr>\n",
       "    <tr>\n",
       "      <th>11</th>\n",
       "      <td>Mr</td>\n",
       "      <td>0.156673</td>\n",
       "    </tr>\n",
       "    <tr>\n",
       "      <th>4</th>\n",
       "      <td>Jonkheer</td>\n",
       "      <td>0.000000</td>\n",
       "    </tr>\n",
       "    <tr>\n",
       "      <th>14</th>\n",
       "      <td>Rev</td>\n",
       "      <td>0.000000</td>\n",
       "    </tr>\n",
       "    <tr>\n",
       "      <th>2</th>\n",
       "      <td>Don</td>\n",
       "      <td>0.000000</td>\n",
       "    </tr>\n",
       "    <tr>\n",
       "      <th>0</th>\n",
       "      <td>Capt</td>\n",
       "      <td>0.000000</td>\n",
       "    </tr>\n",
       "  </tbody>\n",
       "</table>\n",
       "</div>"
      ],
      "text/plain": [
       "       name_title  Survived\n",
       "16   the Countess  1.000000\n",
       "9            Mlle  1.000000\n",
       "15            Sir  1.000000\n",
       "13             Ms  1.000000\n",
       "5            Lady  1.000000\n",
       "10            Mme  1.000000\n",
       "12            Mrs  0.792000\n",
       "8            Miss  0.697802\n",
       "7          Master  0.575000\n",
       "1             Col  0.500000\n",
       "6           Major  0.500000\n",
       "3              Dr  0.428571\n",
       "11             Mr  0.156673\n",
       "4        Jonkheer  0.000000\n",
       "14            Rev  0.000000\n",
       "2             Don  0.000000\n",
       "0            Capt  0.000000"
      ]
     },
     "execution_count": 38,
     "metadata": {},
     "output_type": "execute_result"
    }
   ],
   "source": [
    "train[['name_title', 'Survived']].groupby('name_title', as_index = False).mean().sort_values(by='Survived', ascending=False)"
   ]
  },
  {
   "cell_type": "code",
   "execution_count": 39,
   "metadata": {
    "execution": {
     "iopub.execute_input": "2021-01-31T22:00:47.119085Z",
     "iopub.status.busy": "2021-01-31T22:00:47.112632Z",
     "iopub.status.idle": "2021-01-31T22:00:47.123800Z",
     "shell.execute_reply": "2021-01-31T22:00:47.123114Z"
    },
    "papermill": {
     "duration": 0.094988,
     "end_time": "2021-01-31T22:00:47.123912",
     "exception": false,
     "start_time": "2021-01-31T22:00:47.028924",
     "status": "completed"
    },
    "tags": []
   },
   "outputs": [],
   "source": [
    "train['train_test'] = 1\n",
    "test['train_test'] = 0\n",
    "df_titanic = pd.concat([train, test])"
   ]
  },
  {
   "cell_type": "code",
   "execution_count": 40,
   "metadata": {
    "execution": {
     "iopub.execute_input": "2021-01-31T22:00:47.286572Z",
     "iopub.status.busy": "2021-01-31T22:00:47.285729Z",
     "iopub.status.idle": "2021-01-31T22:00:47.325261Z",
     "shell.execute_reply": "2021-01-31T22:00:47.324573Z"
    },
    "papermill": {
     "duration": 0.124775,
     "end_time": "2021-01-31T22:00:47.325374",
     "exception": false,
     "start_time": "2021-01-31T22:00:47.200599",
     "status": "completed"
    },
    "tags": []
   },
   "outputs": [
    {
     "data": {
      "text/html": [
       "<div>\n",
       "<style scoped>\n",
       "    .dataframe tbody tr th:only-of-type {\n",
       "        vertical-align: middle;\n",
       "    }\n",
       "\n",
       "    .dataframe tbody tr th {\n",
       "        vertical-align: top;\n",
       "    }\n",
       "\n",
       "    .dataframe thead th {\n",
       "        text-align: right;\n",
       "    }\n",
       "</style>\n",
       "<table border=\"1\" class=\"dataframe\">\n",
       "  <thead>\n",
       "    <tr style=\"text-align: right;\">\n",
       "      <th></th>\n",
       "      <th>PassengerId</th>\n",
       "      <th>Survived</th>\n",
       "      <th>Pclass</th>\n",
       "      <th>Age</th>\n",
       "      <th>SibSp</th>\n",
       "      <th>Parch</th>\n",
       "      <th>Fare</th>\n",
       "      <th>cabin_multiple</th>\n",
       "      <th>numeric_ticket</th>\n",
       "      <th>train_test</th>\n",
       "    </tr>\n",
       "  </thead>\n",
       "  <tbody>\n",
       "    <tr>\n",
       "      <th>count</th>\n",
       "      <td>1309.000000</td>\n",
       "      <td>891.000000</td>\n",
       "      <td>1309.000000</td>\n",
       "      <td>1046.000000</td>\n",
       "      <td>1309.000000</td>\n",
       "      <td>1309.000000</td>\n",
       "      <td>1308.000000</td>\n",
       "      <td>891.000000</td>\n",
       "      <td>891.000000</td>\n",
       "      <td>1309.000000</td>\n",
       "    </tr>\n",
       "    <tr>\n",
       "      <th>mean</th>\n",
       "      <td>655.000000</td>\n",
       "      <td>0.383838</td>\n",
       "      <td>2.294882</td>\n",
       "      <td>29.881138</td>\n",
       "      <td>0.498854</td>\n",
       "      <td>0.385027</td>\n",
       "      <td>33.295479</td>\n",
       "      <td>0.267116</td>\n",
       "      <td>0.741863</td>\n",
       "      <td>0.680672</td>\n",
       "    </tr>\n",
       "    <tr>\n",
       "      <th>std</th>\n",
       "      <td>378.020061</td>\n",
       "      <td>0.486592</td>\n",
       "      <td>0.837836</td>\n",
       "      <td>14.413493</td>\n",
       "      <td>1.041658</td>\n",
       "      <td>0.865560</td>\n",
       "      <td>51.758668</td>\n",
       "      <td>0.547134</td>\n",
       "      <td>0.437855</td>\n",
       "      <td>0.466394</td>\n",
       "    </tr>\n",
       "    <tr>\n",
       "      <th>min</th>\n",
       "      <td>1.000000</td>\n",
       "      <td>0.000000</td>\n",
       "      <td>1.000000</td>\n",
       "      <td>0.170000</td>\n",
       "      <td>0.000000</td>\n",
       "      <td>0.000000</td>\n",
       "      <td>0.000000</td>\n",
       "      <td>0.000000</td>\n",
       "      <td>0.000000</td>\n",
       "      <td>0.000000</td>\n",
       "    </tr>\n",
       "    <tr>\n",
       "      <th>25%</th>\n",
       "      <td>328.000000</td>\n",
       "      <td>0.000000</td>\n",
       "      <td>2.000000</td>\n",
       "      <td>21.000000</td>\n",
       "      <td>0.000000</td>\n",
       "      <td>0.000000</td>\n",
       "      <td>7.895800</td>\n",
       "      <td>0.000000</td>\n",
       "      <td>0.000000</td>\n",
       "      <td>0.000000</td>\n",
       "    </tr>\n",
       "    <tr>\n",
       "      <th>50%</th>\n",
       "      <td>655.000000</td>\n",
       "      <td>0.000000</td>\n",
       "      <td>3.000000</td>\n",
       "      <td>28.000000</td>\n",
       "      <td>0.000000</td>\n",
       "      <td>0.000000</td>\n",
       "      <td>14.454200</td>\n",
       "      <td>0.000000</td>\n",
       "      <td>1.000000</td>\n",
       "      <td>1.000000</td>\n",
       "    </tr>\n",
       "    <tr>\n",
       "      <th>75%</th>\n",
       "      <td>982.000000</td>\n",
       "      <td>1.000000</td>\n",
       "      <td>3.000000</td>\n",
       "      <td>39.000000</td>\n",
       "      <td>1.000000</td>\n",
       "      <td>0.000000</td>\n",
       "      <td>31.275000</td>\n",
       "      <td>0.000000</td>\n",
       "      <td>1.000000</td>\n",
       "      <td>1.000000</td>\n",
       "    </tr>\n",
       "    <tr>\n",
       "      <th>max</th>\n",
       "      <td>1309.000000</td>\n",
       "      <td>1.000000</td>\n",
       "      <td>3.000000</td>\n",
       "      <td>80.000000</td>\n",
       "      <td>8.000000</td>\n",
       "      <td>9.000000</td>\n",
       "      <td>512.329200</td>\n",
       "      <td>4.000000</td>\n",
       "      <td>1.000000</td>\n",
       "      <td>1.000000</td>\n",
       "    </tr>\n",
       "  </tbody>\n",
       "</table>\n",
       "</div>"
      ],
      "text/plain": [
       "       PassengerId    Survived       Pclass          Age        SibSp  \\\n",
       "count  1309.000000  891.000000  1309.000000  1046.000000  1309.000000   \n",
       "mean    655.000000    0.383838     2.294882    29.881138     0.498854   \n",
       "std     378.020061    0.486592     0.837836    14.413493     1.041658   \n",
       "min       1.000000    0.000000     1.000000     0.170000     0.000000   \n",
       "25%     328.000000    0.000000     2.000000    21.000000     0.000000   \n",
       "50%     655.000000    0.000000     3.000000    28.000000     0.000000   \n",
       "75%     982.000000    1.000000     3.000000    39.000000     1.000000   \n",
       "max    1309.000000    1.000000     3.000000    80.000000     8.000000   \n",
       "\n",
       "             Parch         Fare  cabin_multiple  numeric_ticket   train_test  \n",
       "count  1309.000000  1308.000000      891.000000      891.000000  1309.000000  \n",
       "mean      0.385027    33.295479        0.267116        0.741863     0.680672  \n",
       "std       0.865560    51.758668        0.547134        0.437855     0.466394  \n",
       "min       0.000000     0.000000        0.000000        0.000000     0.000000  \n",
       "25%       0.000000     7.895800        0.000000        0.000000     0.000000  \n",
       "50%       0.000000    14.454200        0.000000        1.000000     1.000000  \n",
       "75%       0.000000    31.275000        0.000000        1.000000     1.000000  \n",
       "max       9.000000   512.329200        4.000000        1.000000     1.000000  "
      ]
     },
     "execution_count": 40,
     "metadata": {},
     "output_type": "execute_result"
    }
   ],
   "source": [
    "df_titanic.describe()"
   ]
  },
  {
   "cell_type": "markdown",
   "metadata": {
    "papermill": {
     "duration": 0.07705,
     "end_time": "2021-01-31T22:00:47.480018",
     "exception": false,
     "start_time": "2021-01-31T22:00:47.402968",
     "status": "completed"
    },
    "tags": []
   },
   "source": [
    "Adding additional categories that have been examined. The numeric ticket category will not be added as brief analysis has shown no correlation between numeric tickets and survivability."
   ]
  },
  {
   "cell_type": "code",
   "execution_count": 41,
   "metadata": {
    "execution": {
     "iopub.execute_input": "2021-01-31T22:00:47.653876Z",
     "iopub.status.busy": "2021-01-31T22:00:47.644295Z",
     "iopub.status.idle": "2021-01-31T22:00:47.657297Z",
     "shell.execute_reply": "2021-01-31T22:00:47.656607Z"
    },
    "papermill": {
     "duration": 0.099224,
     "end_time": "2021-01-31T22:00:47.657409",
     "exception": false,
     "start_time": "2021-01-31T22:00:47.558185",
     "status": "completed"
    },
    "tags": []
   },
   "outputs": [],
   "source": [
    "df_titanic['cabin_multiple'] = df_titanic.Cabin.apply(lambda x: 0 if pd.isna(x) else len(x.split(' ')))\n",
    "df_titanic['cabin_adv'] = df_titanic.Cabin.apply(lambda x: str(x)[0])\n",
    "df_titanic['letter_ticket'] = df_titanic.Ticket.apply(lambda x: ''.join\n",
    "(x.split(' ')[:-1]).replace('.', '').replace('/', '').lower() if len(x.split(' ')[-1]) >0 else 0)\n",
    "df_titanic['name_title'] = df_titanic.Name.apply(lambda x: x.split(',')[1].split('.')[0])"
   ]
  },
  {
   "cell_type": "code",
   "execution_count": 42,
   "metadata": {
    "execution": {
     "iopub.execute_input": "2021-01-31T22:00:47.820796Z",
     "iopub.status.busy": "2021-01-31T22:00:47.820099Z",
     "iopub.status.idle": "2021-01-31T22:00:47.823070Z",
     "shell.execute_reply": "2021-01-31T22:00:47.822382Z"
    },
    "papermill": {
     "duration": 0.087633,
     "end_time": "2021-01-31T22:00:47.823186",
     "exception": false,
     "start_time": "2021-01-31T22:00:47.735553",
     "status": "completed"
    },
    "tags": []
   },
   "outputs": [],
   "source": [
    "df_titanic.Age = df_titanic.Age.fillna(train.Age.mean())\n",
    "df_titanic.Fare = df_titanic.Fare.fillna(train.Fare.mean())"
   ]
  },
  {
   "cell_type": "code",
   "execution_count": 43,
   "metadata": {
    "execution": {
     "iopub.execute_input": "2021-01-31T22:00:47.988699Z",
     "iopub.status.busy": "2021-01-31T22:00:47.986009Z",
     "iopub.status.idle": "2021-01-31T22:00:47.992926Z",
     "shell.execute_reply": "2021-01-31T22:00:47.993400Z"
    },
    "papermill": {
     "duration": 0.090405,
     "end_time": "2021-01-31T22:00:47.993547",
     "exception": false,
     "start_time": "2021-01-31T22:00:47.903142",
     "status": "completed"
    },
    "tags": []
   },
   "outputs": [],
   "source": [
    "df_titanic.dropna(subset=['Embarked'], inplace = True)"
   ]
  },
  {
   "cell_type": "code",
   "execution_count": 44,
   "metadata": {
    "execution": {
     "iopub.execute_input": "2021-01-31T22:00:48.169741Z",
     "iopub.status.busy": "2021-01-31T22:00:48.160312Z",
     "iopub.status.idle": "2021-01-31T22:00:48.174467Z",
     "shell.execute_reply": "2021-01-31T22:00:48.173960Z"
    },
    "papermill": {
     "duration": 0.103597,
     "end_time": "2021-01-31T22:00:48.174581",
     "exception": false,
     "start_time": "2021-01-31T22:00:48.070984",
     "status": "completed"
    },
    "tags": []
   },
   "outputs": [
    {
     "data": {
      "text/html": [
       "<div>\n",
       "<style scoped>\n",
       "    .dataframe tbody tr th:only-of-type {\n",
       "        vertical-align: middle;\n",
       "    }\n",
       "\n",
       "    .dataframe tbody tr th {\n",
       "        vertical-align: top;\n",
       "    }\n",
       "\n",
       "    .dataframe thead th {\n",
       "        text-align: right;\n",
       "    }\n",
       "</style>\n",
       "<table border=\"1\" class=\"dataframe\">\n",
       "  <thead>\n",
       "    <tr style=\"text-align: right;\">\n",
       "      <th></th>\n",
       "      <th>PassengerId</th>\n",
       "      <th>Survived</th>\n",
       "      <th>Pclass</th>\n",
       "      <th>Name</th>\n",
       "      <th>Sex</th>\n",
       "      <th>Age</th>\n",
       "      <th>SibSp</th>\n",
       "      <th>Parch</th>\n",
       "      <th>Ticket</th>\n",
       "      <th>Fare</th>\n",
       "      <th>Cabin</th>\n",
       "      <th>Embarked</th>\n",
       "      <th>cabin_multiple</th>\n",
       "      <th>cabin_adv</th>\n",
       "      <th>numeric_ticket</th>\n",
       "      <th>letter_ticket</th>\n",
       "      <th>name_title</th>\n",
       "      <th>train_test</th>\n",
       "    </tr>\n",
       "  </thead>\n",
       "  <tbody>\n",
       "    <tr>\n",
       "      <th>0</th>\n",
       "      <td>1</td>\n",
       "      <td>0.0</td>\n",
       "      <td>3</td>\n",
       "      <td>Braund, Mr. Owen Harris</td>\n",
       "      <td>male</td>\n",
       "      <td>22.0</td>\n",
       "      <td>1</td>\n",
       "      <td>0</td>\n",
       "      <td>A/5 21171</td>\n",
       "      <td>7.2500</td>\n",
       "      <td>NaN</td>\n",
       "      <td>S</td>\n",
       "      <td>0</td>\n",
       "      <td>n</td>\n",
       "      <td>0.0</td>\n",
       "      <td>a5</td>\n",
       "      <td>Mr</td>\n",
       "      <td>1</td>\n",
       "    </tr>\n",
       "    <tr>\n",
       "      <th>1</th>\n",
       "      <td>2</td>\n",
       "      <td>1.0</td>\n",
       "      <td>1</td>\n",
       "      <td>Cumings, Mrs. John Bradley (Florence Briggs Th...</td>\n",
       "      <td>female</td>\n",
       "      <td>38.0</td>\n",
       "      <td>1</td>\n",
       "      <td>0</td>\n",
       "      <td>PC 17599</td>\n",
       "      <td>71.2833</td>\n",
       "      <td>C85</td>\n",
       "      <td>C</td>\n",
       "      <td>1</td>\n",
       "      <td>C</td>\n",
       "      <td>0.0</td>\n",
       "      <td>pc</td>\n",
       "      <td>Mrs</td>\n",
       "      <td>1</td>\n",
       "    </tr>\n",
       "    <tr>\n",
       "      <th>2</th>\n",
       "      <td>3</td>\n",
       "      <td>1.0</td>\n",
       "      <td>3</td>\n",
       "      <td>Heikkinen, Miss. Laina</td>\n",
       "      <td>female</td>\n",
       "      <td>26.0</td>\n",
       "      <td>0</td>\n",
       "      <td>0</td>\n",
       "      <td>STON/O2. 3101282</td>\n",
       "      <td>7.9250</td>\n",
       "      <td>NaN</td>\n",
       "      <td>S</td>\n",
       "      <td>0</td>\n",
       "      <td>n</td>\n",
       "      <td>0.0</td>\n",
       "      <td>stono2</td>\n",
       "      <td>Miss</td>\n",
       "      <td>1</td>\n",
       "    </tr>\n",
       "    <tr>\n",
       "      <th>3</th>\n",
       "      <td>4</td>\n",
       "      <td>1.0</td>\n",
       "      <td>1</td>\n",
       "      <td>Futrelle, Mrs. Jacques Heath (Lily May Peel)</td>\n",
       "      <td>female</td>\n",
       "      <td>35.0</td>\n",
       "      <td>1</td>\n",
       "      <td>0</td>\n",
       "      <td>113803</td>\n",
       "      <td>53.1000</td>\n",
       "      <td>C123</td>\n",
       "      <td>S</td>\n",
       "      <td>1</td>\n",
       "      <td>C</td>\n",
       "      <td>1.0</td>\n",
       "      <td></td>\n",
       "      <td>Mrs</td>\n",
       "      <td>1</td>\n",
       "    </tr>\n",
       "    <tr>\n",
       "      <th>4</th>\n",
       "      <td>5</td>\n",
       "      <td>0.0</td>\n",
       "      <td>3</td>\n",
       "      <td>Allen, Mr. William Henry</td>\n",
       "      <td>male</td>\n",
       "      <td>35.0</td>\n",
       "      <td>0</td>\n",
       "      <td>0</td>\n",
       "      <td>373450</td>\n",
       "      <td>8.0500</td>\n",
       "      <td>NaN</td>\n",
       "      <td>S</td>\n",
       "      <td>0</td>\n",
       "      <td>n</td>\n",
       "      <td>1.0</td>\n",
       "      <td></td>\n",
       "      <td>Mr</td>\n",
       "      <td>1</td>\n",
       "    </tr>\n",
       "  </tbody>\n",
       "</table>\n",
       "</div>"
      ],
      "text/plain": [
       "   PassengerId  Survived  Pclass  \\\n",
       "0            1       0.0       3   \n",
       "1            2       1.0       1   \n",
       "2            3       1.0       3   \n",
       "3            4       1.0       1   \n",
       "4            5       0.0       3   \n",
       "\n",
       "                                                Name     Sex   Age  SibSp  \\\n",
       "0                            Braund, Mr. Owen Harris    male  22.0      1   \n",
       "1  Cumings, Mrs. John Bradley (Florence Briggs Th...  female  38.0      1   \n",
       "2                             Heikkinen, Miss. Laina  female  26.0      0   \n",
       "3       Futrelle, Mrs. Jacques Heath (Lily May Peel)  female  35.0      1   \n",
       "4                           Allen, Mr. William Henry    male  35.0      0   \n",
       "\n",
       "   Parch            Ticket     Fare Cabin Embarked  cabin_multiple cabin_adv  \\\n",
       "0      0         A/5 21171   7.2500   NaN        S               0         n   \n",
       "1      0          PC 17599  71.2833   C85        C               1         C   \n",
       "2      0  STON/O2. 3101282   7.9250   NaN        S               0         n   \n",
       "3      0            113803  53.1000  C123        S               1         C   \n",
       "4      0            373450   8.0500   NaN        S               0         n   \n",
       "\n",
       "   numeric_ticket letter_ticket name_title  train_test  \n",
       "0             0.0            a5         Mr           1  \n",
       "1             0.0            pc        Mrs           1  \n",
       "2             0.0        stono2       Miss           1  \n",
       "3             1.0                      Mrs           1  \n",
       "4             1.0                       Mr           1  "
      ]
     },
     "execution_count": 44,
     "metadata": {},
     "output_type": "execute_result"
    }
   ],
   "source": [
    "df_titanic.head()"
   ]
  },
  {
   "cell_type": "code",
   "execution_count": 45,
   "metadata": {
    "execution": {
     "iopub.execute_input": "2021-01-31T22:00:48.341436Z",
     "iopub.status.busy": "2021-01-31T22:00:48.340617Z",
     "iopub.status.idle": "2021-01-31T22:00:48.343676Z",
     "shell.execute_reply": "2021-01-31T22:00:48.343167Z"
    },
    "papermill": {
     "duration": 0.091183,
     "end_time": "2021-01-31T22:00:48.343825",
     "exception": false,
     "start_time": "2021-01-31T22:00:48.252642",
     "status": "completed"
    },
    "tags": []
   },
   "outputs": [],
   "source": [
    "df_titanic['Sex'].replace(to_replace=['male', 'female'], value=[0,1], inplace=True)"
   ]
  },
  {
   "cell_type": "markdown",
   "metadata": {
    "papermill": {
     "duration": 0.078006,
     "end_time": "2021-01-31T22:00:48.500180",
     "exception": false,
     "start_time": "2021-01-31T22:00:48.422174",
     "status": "completed"
    },
    "tags": []
   },
   "source": [
    "## Onehot encoding"
   ]
  },
  {
   "cell_type": "code",
   "execution_count": 46,
   "metadata": {
    "execution": {
     "iopub.execute_input": "2021-01-31T22:00:48.666657Z",
     "iopub.status.busy": "2021-01-31T22:00:48.665990Z",
     "iopub.status.idle": "2021-01-31T22:00:48.846848Z",
     "shell.execute_reply": "2021-01-31T22:00:48.847336Z"
    },
    "papermill": {
     "duration": 0.267739,
     "end_time": "2021-01-31T22:00:48.847496",
     "exception": false,
     "start_time": "2021-01-31T22:00:48.579757",
     "status": "completed"
    },
    "tags": []
   },
   "outputs": [
    {
     "data": {
      "text/plain": [
       "<matplotlib.axes._subplots.AxesSubplot at 0x7f184cdd0f50>"
      ]
     },
     "execution_count": 46,
     "metadata": {},
     "output_type": "execute_result"
    },
    {
     "data": {
      "image/png": "[encoded data removed]",
      "text/plain": [
       "<Figure size 432x288 with 1 Axes>"
      ]
     },
     "metadata": {
      "needs_background": "light"
     },
     "output_type": "display_data"
    }
   ],
   "source": [
    "df_titanic['norm_fare'] = np.log(df_titanic.Fare+1)\n",
    "df_titanic['norm_fare'].hist()"
   ]
  },
  {
   "cell_type": "code",
   "execution_count": 47,
   "metadata": {
    "execution": {
     "iopub.execute_input": "2021-01-31T22:00:49.020686Z",
     "iopub.status.busy": "2021-01-31T22:00:49.016746Z",
     "iopub.status.idle": "2021-01-31T22:00:49.030092Z",
     "shell.execute_reply": "2021-01-31T22:00:49.029498Z"
    },
    "papermill": {
     "duration": 0.101681,
     "end_time": "2021-01-31T22:00:49.030206",
     "exception": false,
     "start_time": "2021-01-31T22:00:48.928525",
     "status": "completed"
    },
    "tags": []
   },
   "outputs": [],
   "source": [
    "df_feature = df_titanic[['Pclass', 'Sex', 'Age', 'SibSp', 'Parch', 'Fare', 'cabin_multiple', 'norm_fare', 'train_test']]\n",
    "df_feature = pd.concat([df_feature,pd.get_dummies(df_titanic[['Embarked', 'cabin_adv', 'name_title']])], axis=1)"
   ]
  },
  {
   "cell_type": "code",
   "execution_count": 48,
   "metadata": {
    "execution": {
     "iopub.execute_input": "2021-01-31T22:00:49.196203Z",
     "iopub.status.busy": "2021-01-31T22:00:49.195522Z",
     "iopub.status.idle": "2021-01-31T22:00:49.218561Z",
     "shell.execute_reply": "2021-01-31T22:00:49.217919Z"
    },
    "papermill": {
     "duration": 0.108728,
     "end_time": "2021-01-31T22:00:49.218670",
     "exception": false,
     "start_time": "2021-01-31T22:00:49.109942",
     "status": "completed"
    },
    "tags": []
   },
   "outputs": [
    {
     "data": {
      "text/html": [
       "<div>\n",
       "<style scoped>\n",
       "    .dataframe tbody tr th:only-of-type {\n",
       "        vertical-align: middle;\n",
       "    }\n",
       "\n",
       "    .dataframe tbody tr th {\n",
       "        vertical-align: top;\n",
       "    }\n",
       "\n",
       "    .dataframe thead th {\n",
       "        text-align: right;\n",
       "    }\n",
       "</style>\n",
       "<table border=\"1\" class=\"dataframe\">\n",
       "  <thead>\n",
       "    <tr style=\"text-align: right;\">\n",
       "      <th></th>\n",
       "      <th>Pclass</th>\n",
       "      <th>Sex</th>\n",
       "      <th>Age</th>\n",
       "      <th>SibSp</th>\n",
       "      <th>Parch</th>\n",
       "      <th>Fare</th>\n",
       "      <th>cabin_multiple</th>\n",
       "      <th>norm_fare</th>\n",
       "      <th>train_test</th>\n",
       "      <th>Embarked_C</th>\n",
       "      <th>...</th>\n",
       "      <th>name_title_ Master</th>\n",
       "      <th>name_title_ Miss</th>\n",
       "      <th>name_title_ Mlle</th>\n",
       "      <th>name_title_ Mme</th>\n",
       "      <th>name_title_ Mr</th>\n",
       "      <th>name_title_ Mrs</th>\n",
       "      <th>name_title_ Ms</th>\n",
       "      <th>name_title_ Rev</th>\n",
       "      <th>name_title_ Sir</th>\n",
       "      <th>name_title_ the Countess</th>\n",
       "    </tr>\n",
       "  </thead>\n",
       "  <tbody>\n",
       "    <tr>\n",
       "      <th>0</th>\n",
       "      <td>3</td>\n",
       "      <td>0</td>\n",
       "      <td>22.0</td>\n",
       "      <td>1</td>\n",
       "      <td>0</td>\n",
       "      <td>7.2500</td>\n",
       "      <td>0</td>\n",
       "      <td>2.110213</td>\n",
       "      <td>1</td>\n",
       "      <td>0</td>\n",
       "      <td>...</td>\n",
       "      <td>0</td>\n",
       "      <td>0</td>\n",
       "      <td>0</td>\n",
       "      <td>0</td>\n",
       "      <td>1</td>\n",
       "      <td>0</td>\n",
       "      <td>0</td>\n",
       "      <td>0</td>\n",
       "      <td>0</td>\n",
       "      <td>0</td>\n",
       "    </tr>\n",
       "    <tr>\n",
       "      <th>1</th>\n",
       "      <td>1</td>\n",
       "      <td>1</td>\n",
       "      <td>38.0</td>\n",
       "      <td>1</td>\n",
       "      <td>0</td>\n",
       "      <td>71.2833</td>\n",
       "      <td>1</td>\n",
       "      <td>4.280593</td>\n",
       "      <td>1</td>\n",
       "      <td>1</td>\n",
       "      <td>...</td>\n",
       "      <td>0</td>\n",
       "      <td>0</td>\n",
       "      <td>0</td>\n",
       "      <td>0</td>\n",
       "      <td>0</td>\n",
       "      <td>1</td>\n",
       "      <td>0</td>\n",
       "      <td>0</td>\n",
       "      <td>0</td>\n",
       "      <td>0</td>\n",
       "    </tr>\n",
       "    <tr>\n",
       "      <th>2</th>\n",
       "      <td>3</td>\n",
       "      <td>1</td>\n",
       "      <td>26.0</td>\n",
       "      <td>0</td>\n",
       "      <td>0</td>\n",
       "      <td>7.9250</td>\n",
       "      <td>0</td>\n",
       "      <td>2.188856</td>\n",
       "      <td>1</td>\n",
       "      <td>0</td>\n",
       "      <td>...</td>\n",
       "      <td>0</td>\n",
       "      <td>1</td>\n",
       "      <td>0</td>\n",
       "      <td>0</td>\n",
       "      <td>0</td>\n",
       "      <td>0</td>\n",
       "      <td>0</td>\n",
       "      <td>0</td>\n",
       "      <td>0</td>\n",
       "      <td>0</td>\n",
       "    </tr>\n",
       "    <tr>\n",
       "      <th>3</th>\n",
       "      <td>1</td>\n",
       "      <td>1</td>\n",
       "      <td>35.0</td>\n",
       "      <td>1</td>\n",
       "      <td>0</td>\n",
       "      <td>53.1000</td>\n",
       "      <td>1</td>\n",
       "      <td>3.990834</td>\n",
       "      <td>1</td>\n",
       "      <td>0</td>\n",
       "      <td>...</td>\n",
       "      <td>0</td>\n",
       "      <td>0</td>\n",
       "      <td>0</td>\n",
       "      <td>0</td>\n",
       "      <td>0</td>\n",
       "      <td>1</td>\n",
       "      <td>0</td>\n",
       "      <td>0</td>\n",
       "      <td>0</td>\n",
       "      <td>0</td>\n",
       "    </tr>\n",
       "    <tr>\n",
       "      <th>4</th>\n",
       "      <td>3</td>\n",
       "      <td>0</td>\n",
       "      <td>35.0</td>\n",
       "      <td>0</td>\n",
       "      <td>0</td>\n",
       "      <td>8.0500</td>\n",
       "      <td>0</td>\n",
       "      <td>2.202765</td>\n",
       "      <td>1</td>\n",
       "      <td>0</td>\n",
       "      <td>...</td>\n",
       "      <td>0</td>\n",
       "      <td>0</td>\n",
       "      <td>0</td>\n",
       "      <td>0</td>\n",
       "      <td>1</td>\n",
       "      <td>0</td>\n",
       "      <td>0</td>\n",
       "      <td>0</td>\n",
       "      <td>0</td>\n",
       "      <td>0</td>\n",
       "    </tr>\n",
       "  </tbody>\n",
       "</table>\n",
       "<p>5 rows × 39 columns</p>\n",
       "</div>"
      ],
      "text/plain": [
       "   Pclass  Sex   Age  SibSp  Parch     Fare  cabin_multiple  norm_fare  \\\n",
       "0       3    0  22.0      1      0   7.2500               0   2.110213   \n",
       "1       1    1  38.0      1      0  71.2833               1   4.280593   \n",
       "2       3    1  26.0      0      0   7.9250               0   2.188856   \n",
       "3       1    1  35.0      1      0  53.1000               1   3.990834   \n",
       "4       3    0  35.0      0      0   8.0500               0   2.202765   \n",
       "\n",
       "   train_test  Embarked_C  ...  name_title_ Master  name_title_ Miss  \\\n",
       "0           1           0  ...                   0                 0   \n",
       "1           1           1  ...                   0                 0   \n",
       "2           1           0  ...                   0                 1   \n",
       "3           1           0  ...                   0                 0   \n",
       "4           1           0  ...                   0                 0   \n",
       "\n",
       "   name_title_ Mlle  name_title_ Mme  name_title_ Mr  name_title_ Mrs  \\\n",
       "0                 0                0               1                0   \n",
       "1                 0                0               0                1   \n",
       "2                 0                0               0                0   \n",
       "3                 0                0               0                1   \n",
       "4                 0                0               1                0   \n",
       "\n",
       "   name_title_ Ms  name_title_ Rev  name_title_ Sir  name_title_ the Countess  \n",
       "0               0                0                0                         0  \n",
       "1               0                0                0                         0  \n",
       "2               0                0                0                         0  \n",
       "3               0                0                0                         0  \n",
       "4               0                0                0                         0  \n",
       "\n",
       "[5 rows x 39 columns]"
      ]
     },
     "execution_count": 48,
     "metadata": {},
     "output_type": "execute_result"
    }
   ],
   "source": [
    "df_feature.head()"
   ]
  },
  {
   "cell_type": "markdown",
   "metadata": {
    "papermill": {
     "duration": 0.081284,
     "end_time": "2021-01-31T22:00:49.380192",
     "exception": false,
     "start_time": "2021-01-31T22:00:49.298908",
     "status": "completed"
    },
    "tags": []
   },
   "source": [
    "## Normalization"
   ]
  },
  {
   "cell_type": "code",
   "execution_count": 49,
   "metadata": {
    "execution": {
     "iopub.execute_input": "2021-01-31T22:00:49.549415Z",
     "iopub.status.busy": "2021-01-31T22:00:49.548534Z",
     "iopub.status.idle": "2021-01-31T22:00:49.552343Z",
     "shell.execute_reply": "2021-01-31T22:00:49.551679Z"
    },
    "papermill": {
     "duration": 0.090569,
     "end_time": "2021-01-31T22:00:49.552466",
     "exception": false,
     "start_time": "2021-01-31T22:00:49.461897",
     "status": "completed"
    },
    "tags": []
   },
   "outputs": [],
   "source": [
    "X = df_feature\n",
    "y = df_titanic['Survived'].values"
   ]
  },
  {
   "cell_type": "code",
   "execution_count": 50,
   "metadata": {
    "execution": {
     "iopub.execute_input": "2021-01-31T22:00:49.728076Z",
     "iopub.status.busy": "2021-01-31T22:00:49.727069Z",
     "iopub.status.idle": "2021-01-31T22:00:49.730656Z",
     "shell.execute_reply": "2021-01-31T22:00:49.731344Z"
    },
    "papermill": {
     "duration": 0.097682,
     "end_time": "2021-01-31T22:00:49.731495",
     "exception": false,
     "start_time": "2021-01-31T22:00:49.633813",
     "status": "completed"
    },
    "tags": []
   },
   "outputs": [
    {
     "name": "stdout",
     "output_type": "stream",
     "text": [
      "[ 0.  1.  1. ... nan nan nan]\n"
     ]
    }
   ],
   "source": [
    "print(y)"
   ]
  },
  {
   "cell_type": "code",
   "execution_count": 51,
   "metadata": {
    "execution": {
     "iopub.execute_input": "2021-01-31T22:00:49.902819Z",
     "iopub.status.busy": "2021-01-31T22:00:49.902020Z",
     "iopub.status.idle": "2021-01-31T22:00:49.987404Z",
     "shell.execute_reply": "2021-01-31T22:00:49.986717Z"
    },
    "papermill": {
     "duration": 0.173207,
     "end_time": "2021-01-31T22:00:49.987531",
     "exception": false,
     "start_time": "2021-01-31T22:00:49.814324",
     "status": "completed"
    },
    "tags": []
   },
   "outputs": [
    {
     "data": {
      "text/plain": [
       "array([[ 0.84044746, -0.74189971, -0.60780782,  0.48027176, -0.44540733,\n",
       "        -0.50212639, -0.47214019, -0.89685632,  0.68570491, -0.51026115,\n",
       "        -0.32231217,  0.65572717, -0.1308458 , -0.22504019, -0.27837711,\n",
       "        -0.19099472, -0.17995962, -0.12778773, -0.06196972, -0.02767123,\n",
       "         0.53754501, -0.02767123, -0.05540613, -0.02767123, -0.02767123,\n",
       "        -0.07847664, -0.02767123, -0.02767123, -0.03914801, -0.22126152,\n",
       "        -0.49712916, -0.03914801, -0.02767123,  0.8523803 , -0.420021  ,\n",
       "        -0.03914801, -0.07847664, -0.02767123, -0.02767123],\n",
       "       [-1.55011801,  1.34789107,  0.63678752,  0.48027176, -0.44540733,\n",
       "         0.73579729,  1.27104408,  1.34714418,  0.68570491,  1.95978079,\n",
       "        -0.32231217, -1.52502451, -0.1308458 , -0.22504019,  3.59224934,\n",
       "        -0.19099472, -0.17995962, -0.12778773, -0.06196972, -0.02767123,\n",
       "        -1.86030934, -0.02767123, -0.05540613, -0.02767123, -0.02767123,\n",
       "        -0.07847664, -0.02767123, -0.02767123, -0.03914801, -0.22126152,\n",
       "        -0.49712916, -0.03914801, -0.02767123, -1.17318525,  2.38083333,\n",
       "        -0.03914801, -0.07847664, -0.02767123, -0.02767123],\n",
       "       [ 0.84044746,  1.34789107, -0.29665898, -0.47953739, -0.44540733,\n",
       "        -0.48907695, -0.47214019, -0.81554557,  0.68570491, -0.51026115,\n",
       "        -0.32231217,  0.65572717, -0.1308458 , -0.22504019, -0.27837711,\n",
       "        -0.19099472, -0.17995962, -0.12778773, -0.06196972, -0.02767123,\n",
       "         0.53754501, -0.02767123, -0.05540613, -0.02767123, -0.02767123,\n",
       "        -0.07847664, -0.02767123, -0.02767123, -0.03914801, -0.22126152,\n",
       "         2.01154966, -0.03914801, -0.02767123, -1.17318525, -0.420021  ,\n",
       "        -0.03914801, -0.07847664, -0.02767123, -0.02767123],\n",
       "       [-1.55011801,  1.34789107,  0.40342589,  0.48027176, -0.44540733,\n",
       "         0.38426867,  1.27104408,  1.04755645,  0.68570491, -0.51026115,\n",
       "        -0.32231217,  0.65572717, -0.1308458 , -0.22504019,  3.59224934,\n",
       "        -0.19099472, -0.17995962, -0.12778773, -0.06196972, -0.02767123,\n",
       "        -1.86030934, -0.02767123, -0.05540613, -0.02767123, -0.02767123,\n",
       "        -0.07847664, -0.02767123, -0.02767123, -0.03914801, -0.22126152,\n",
       "        -0.49712916, -0.03914801, -0.02767123, -1.17318525,  2.38083333,\n",
       "        -0.03914801, -0.07847664, -0.02767123, -0.02767123],\n",
       "       [ 0.84044746, -0.74189971,  0.40342589, -0.47953739, -0.44540733,\n",
       "        -0.48666039, -0.47214019, -0.80116536,  0.68570491, -0.51026115,\n",
       "        -0.32231217,  0.65572717, -0.1308458 , -0.22504019, -0.27837711,\n",
       "        -0.19099472, -0.17995962, -0.12778773, -0.06196972, -0.02767123,\n",
       "         0.53754501, -0.02767123, -0.05540613, -0.02767123, -0.02767123,\n",
       "        -0.07847664, -0.02767123, -0.02767123, -0.03914801, -0.22126152,\n",
       "        -0.49712916, -0.03914801, -0.02767123,  0.8523803 , -0.420021  ,\n",
       "        -0.03914801, -0.07847664, -0.02767123, -0.02767123]])"
      ]
     },
     "execution_count": 51,
     "metadata": {},
     "output_type": "execute_result"
    }
   ],
   "source": [
    "from sklearn import preprocessing\n",
    "X = preprocessing.StandardScaler().fit(X).transform(X)\n",
    "X[0:5]"
   ]
  },
  {
   "cell_type": "markdown",
   "metadata": {
    "papermill": {
     "duration": 0.081298,
     "end_time": "2021-01-31T22:00:50.150683",
     "exception": false,
     "start_time": "2021-01-31T22:00:50.069385",
     "status": "completed"
    },
    "tags": []
   },
   "source": [
    "Train-test split"
   ]
  },
  {
   "cell_type": "code",
   "execution_count": 52,
   "metadata": {
    "execution": {
     "iopub.execute_input": "2021-01-31T22:00:50.331562Z",
     "iopub.status.busy": "2021-01-31T22:00:50.330378Z",
     "iopub.status.idle": "2021-01-31T22:00:50.339207Z",
     "shell.execute_reply": "2021-01-31T22:00:50.338172Z"
    },
    "papermill": {
     "duration": 0.106722,
     "end_time": "2021-01-31T22:00:50.339388",
     "exception": false,
     "start_time": "2021-01-31T22:00:50.232666",
     "status": "completed"
    },
    "tags": []
   },
   "outputs": [
    {
     "data": {
      "text/plain": [
       "(889,)"
      ]
     },
     "execution_count": 52,
     "metadata": {},
     "output_type": "execute_result"
    }
   ],
   "source": [
    "X_train = df_feature[df_feature.train_test == 1].drop(['train_test'], axis = 1)\n",
    "X_test = df_feature[df_feature.train_test == 0].drop(['train_test'], axis = 1)\n",
    "y_train = df_titanic[df_titanic.train_test == 1].Survived\n",
    "\n",
    "y_train.shape"
   ]
  },
  {
   "cell_type": "code",
   "execution_count": 53,
   "metadata": {
    "execution": {
     "iopub.execute_input": "2021-01-31T22:00:50.541347Z",
     "iopub.status.busy": "2021-01-31T22:00:50.540312Z",
     "iopub.status.idle": "2021-01-31T22:00:50.554035Z",
     "shell.execute_reply": "2021-01-31T22:00:50.553034Z"
    },
    "papermill": {
     "duration": 0.115249,
     "end_time": "2021-01-31T22:00:50.554193",
     "exception": false,
     "start_time": "2021-01-31T22:00:50.438944",
     "status": "completed"
    },
    "tags": []
   },
   "outputs": [],
   "source": [
    "from sklearn.preprocessing import StandardScaler\n",
    "\n",
    "all_dummies_scaled = df_feature.copy()\n",
    "all_dummies_scaled[['Age', 'SibSp', 'Parch', 'norm_fare']] = StandardScaler().fit_transform(all_dummies_scaled[['Age', 'SibSp', 'Parch', 'norm_fare']])\n",
    "\n",
    "X_train_scaled = all_dummies_scaled[all_dummies_scaled.train_test == 1].drop(['train_test'], axis =1)\n",
    "X_test_scaled = all_dummies_scaled[all_dummies_scaled.train_test == 0].drop(['train_test'], axis =1)"
   ]
  },
  {
   "cell_type": "markdown",
   "metadata": {
    "papermill": {
     "duration": 0.082786,
     "end_time": "2021-01-31T22:00:50.736085",
     "exception": false,
     "start_time": "2021-01-31T22:00:50.653299",
     "status": "completed"
    },
    "tags": []
   },
   "source": [
    "## Model Building"
   ]
  },
  {
   "cell_type": "code",
   "execution_count": 54,
   "metadata": {
    "execution": {
     "iopub.execute_input": "2021-01-31T22:00:50.909741Z",
     "iopub.status.busy": "2021-01-31T22:00:50.909083Z",
     "iopub.status.idle": "2021-01-31T22:00:51.202766Z",
     "shell.execute_reply": "2021-01-31T22:00:51.202126Z"
    },
    "papermill": {
     "duration": 0.384429,
     "end_time": "2021-01-31T22:00:51.202923",
     "exception": false,
     "start_time": "2021-01-31T22:00:50.818494",
     "status": "completed"
    },
    "tags": []
   },
   "outputs": [],
   "source": [
    "from sklearn.naive_bayes import GaussianNB\n",
    "from sklearn.model_selection import cross_val_score\n",
    "from sklearn.linear_model import LogisticRegression\n",
    "from sklearn import tree\n",
    "from sklearn.neighbors import KNeighborsClassifier\n",
    "from sklearn.svm import SVC\n",
    "from sklearn.ensemble import RandomForestClassifier"
   ]
  },
  {
   "cell_type": "code",
   "execution_count": 55,
   "metadata": {
    "execution": {
     "iopub.execute_input": "2021-01-31T22:00:51.376051Z",
     "iopub.status.busy": "2021-01-31T22:00:51.375312Z",
     "iopub.status.idle": "2021-01-31T22:00:51.417434Z",
     "shell.execute_reply": "2021-01-31T22:00:51.416873Z"
    },
    "papermill": {
     "duration": 0.12981,
     "end_time": "2021-01-31T22:00:51.417548",
     "exception": false,
     "start_time": "2021-01-31T22:00:51.287738",
     "status": "completed"
    },
    "tags": []
   },
   "outputs": [
    {
     "name": "stdout",
     "output_type": "stream",
     "text": [
      "[0.66292135 0.69662921 0.7752809  0.76966292 0.72881356]\n",
      "0.7266615882689011\n"
     ]
    }
   ],
   "source": [
    "gnb = GaussianNB()\n",
    "cv = cross_val_score(gnb, X_train, y_train, cv=5)\n",
    "print(cv)\n",
    "print(cv.mean())"
   ]
  },
  {
   "cell_type": "code",
   "execution_count": 56,
   "metadata": {
    "execution": {
     "iopub.execute_input": "2021-01-31T22:00:51.591303Z",
     "iopub.status.busy": "2021-01-31T22:00:51.590576Z",
     "iopub.status.idle": "2021-01-31T22:00:52.671059Z",
     "shell.execute_reply": "2021-01-31T22:00:52.671609Z"
    },
    "papermill": {
     "duration": 1.171011,
     "end_time": "2021-01-31T22:00:52.671755",
     "exception": false,
     "start_time": "2021-01-31T22:00:51.500744",
     "status": "completed"
    },
    "tags": []
   },
   "outputs": [
    {
     "name": "stdout",
     "output_type": "stream",
     "text": [
      "[0.80898876 0.82022472 0.80337079 0.82022472 0.85310734]\n",
      "0.8211832666793626\n"
     ]
    }
   ],
   "source": [
    "lr = LogisticRegression(max_iter = 1000)\n",
    "cv = cross_val_score(lr, X_train, y_train, cv=5)\n",
    "print(cv)\n",
    "print(cv.mean())"
   ]
  },
  {
   "cell_type": "code",
   "execution_count": 57,
   "metadata": {
    "execution": {
     "iopub.execute_input": "2021-01-31T22:00:52.847780Z",
     "iopub.status.busy": "2021-01-31T22:00:52.846806Z",
     "iopub.status.idle": "2021-01-31T22:00:52.909753Z",
     "shell.execute_reply": "2021-01-31T22:00:52.908628Z"
    },
    "papermill": {
     "duration": 0.152377,
     "end_time": "2021-01-31T22:00:52.909898",
     "exception": false,
     "start_time": "2021-01-31T22:00:52.757521",
     "status": "completed"
    },
    "tags": []
   },
   "outputs": [
    {
     "name": "stdout",
     "output_type": "stream",
     "text": [
      "[0.76404494 0.78651685 0.81460674 0.75280899 0.79661017]\n",
      "0.7829175395162826\n"
     ]
    }
   ],
   "source": [
    "tree = tree.DecisionTreeClassifier(criterion='entropy')\n",
    "cv = cross_val_score(tree, X_train, y_train, cv=5)\n",
    "print(cv)\n",
    "print(cv.mean())"
   ]
  },
  {
   "cell_type": "code",
   "execution_count": 58,
   "metadata": {
    "execution": {
     "iopub.execute_input": "2021-01-31T22:00:53.086837Z",
     "iopub.status.busy": "2021-01-31T22:00:53.086141Z",
     "iopub.status.idle": "2021-01-31T22:00:53.181765Z",
     "shell.execute_reply": "2021-01-31T22:00:53.182298Z"
    },
    "papermill": {
     "duration": 0.186618,
     "end_time": "2021-01-31T22:00:53.182438",
     "exception": false,
     "start_time": "2021-01-31T22:00:52.995820",
     "status": "completed"
    },
    "tags": []
   },
   "outputs": [
    {
     "name": "stdout",
     "output_type": "stream",
     "text": [
      "[0.65730337 0.69101124 0.73595506 0.7247191  0.72881356]\n",
      "0.7075604646733955\n"
     ]
    }
   ],
   "source": [
    "knn = KNeighborsClassifier()\n",
    "cv = cross_val_score(knn, X_train, y_train, cv=5)\n",
    "print(cv)\n",
    "print(cv.mean())"
   ]
  },
  {
   "cell_type": "code",
   "execution_count": 59,
   "metadata": {
    "execution": {
     "iopub.execute_input": "2021-01-31T22:00:53.358598Z",
     "iopub.status.busy": "2021-01-31T22:00:53.357940Z",
     "iopub.status.idle": "2021-01-31T22:00:54.658170Z",
     "shell.execute_reply": "2021-01-31T22:00:54.657600Z"
    },
    "papermill": {
     "duration": 1.391339,
     "end_time": "2021-01-31T22:00:54.658281",
     "exception": false,
     "start_time": "2021-01-31T22:00:53.266942",
     "status": "completed"
    },
    "tags": []
   },
   "outputs": [
    {
     "name": "stdout",
     "output_type": "stream",
     "text": [
      "[0.82022472 0.7752809  0.83707865 0.75842697 0.83615819]\n",
      "0.8054338856090902\n"
     ]
    }
   ],
   "source": [
    "rfc = RandomForestClassifier()\n",
    "cv = cross_val_score(rfc, X_train, y_train, cv=5)\n",
    "print(cv)\n",
    "print(cv.mean())"
   ]
  },
  {
   "cell_type": "code",
   "execution_count": 60,
   "metadata": {
    "execution": {
     "iopub.execute_input": "2021-01-31T22:00:54.837430Z",
     "iopub.status.busy": "2021-01-31T22:00:54.836716Z",
     "iopub.status.idle": "2021-01-31T22:00:55.789979Z",
     "shell.execute_reply": "2021-01-31T22:00:55.790459Z"
    },
    "papermill": {
     "duration": 1.047231,
     "end_time": "2021-01-31T22:00:55.790608",
     "exception": false,
     "start_time": "2021-01-31T22:00:54.743377",
     "status": "completed"
    },
    "tags": []
   },
   "outputs": [
    {
     "name": "stdout",
     "output_type": "stream",
     "text": [
      "[0.59550562 0.71348315 0.68539326 0.68539326 0.68926554]\n",
      "0.6738081635244081\n"
     ]
    }
   ],
   "source": [
    "svc = SVC(probability = True)\n",
    "cv = cross_val_score(svc, X_train, y_train, cv=5)\n",
    "print(cv)\n",
    "print(cv.mean())"
   ]
  },
  {
   "cell_type": "markdown",
   "metadata": {
    "papermill": {
     "duration": 0.085197,
     "end_time": "2021-01-31T22:00:55.962237",
     "exception": false,
     "start_time": "2021-01-31T22:00:55.877040",
     "status": "completed"
    },
    "tags": []
   },
   "source": [
    "Logistic regression appears to work best out of the other machine learning models built with an accuracy of ~0.83. This model will be submitted for grading and compared to the control submission. "
   ]
  },
  {
   "cell_type": "code",
   "execution_count": 61,
   "metadata": {
    "execution": {
     "iopub.execute_input": "2021-01-31T22:00:56.142432Z",
     "iopub.status.busy": "2021-01-31T22:00:56.141245Z",
     "iopub.status.idle": "2021-01-31T22:00:56.405837Z",
     "shell.execute_reply": "2021-01-31T22:00:56.406364Z"
    },
    "papermill": {
     "duration": 0.35877,
     "end_time": "2021-01-31T22:00:56.406528",
     "exception": false,
     "start_time": "2021-01-31T22:00:56.047758",
     "status": "completed"
    },
    "tags": []
   },
   "outputs": [
    {
     "name": "stdout",
     "output_type": "stream",
     "text": [
      "Your submission was successfully saved!\n"
     ]
    }
   ],
   "source": [
    "lr.fit(X_train, y_train)\n",
    "yhat = lr.predict(X_test). astype(int)\n",
    "\n",
    "base_submission = pd.DataFrame({'PassengerId': test.PassengerId, 'Survived': yhat})\n",
    "base_submission.to_csv('base_submission.csv', index=False)\n",
    "print('Your submission was successfully saved!')"
   ]
  },
  {
   "cell_type": "markdown",
   "metadata": {
    "papermill": {
     "duration": 0.087276,
     "end_time": "2021-01-31T22:00:56.582254",
     "exception": false,
     "start_time": "2021-01-31T22:00:56.494978",
     "status": "completed"
    },
    "tags": []
   },
   "source": [
    "This submission of the logistic regression model yielded an accuracy slightly better than the control submission with a score of roughly 0.77. We will now try a voting classifier to see if this has any effect on the accuracy. "
   ]
  },
  {
   "cell_type": "code",
   "execution_count": 62,
   "metadata": {
    "execution": {
     "iopub.execute_input": "2021-01-31T22:00:56.763359Z",
     "iopub.status.busy": "2021-01-31T22:00:56.762641Z",
     "iopub.status.idle": "2021-01-31T22:00:56.765768Z",
     "shell.execute_reply": "2021-01-31T22:00:56.765221Z"
    },
    "papermill": {
     "duration": 0.097069,
     "end_time": "2021-01-31T22:00:56.765907",
     "exception": false,
     "start_time": "2021-01-31T22:00:56.668838",
     "status": "completed"
    },
    "tags": []
   },
   "outputs": [],
   "source": [
    "from sklearn.ensemble import VotingClassifier\n",
    "voting_clf = VotingClassifier(estimators = [('lr', lr), ('knn', knn), ('gnb', gnb), ('svc', svc), ('dt', tree), ('rf', rfc)], voting = 'soft')"
   ]
  },
  {
   "cell_type": "code",
   "execution_count": 63,
   "metadata": {
    "execution": {
     "iopub.execute_input": "2021-01-31T22:00:56.944317Z",
     "iopub.status.busy": "2021-01-31T22:00:56.943537Z",
     "iopub.status.idle": "2021-01-31T22:01:00.342807Z",
     "shell.execute_reply": "2021-01-31T22:01:00.342255Z"
    },
    "papermill": {
     "duration": 3.489304,
     "end_time": "2021-01-31T22:01:00.342929",
     "exception": false,
     "start_time": "2021-01-31T22:00:56.853625",
     "status": "completed"
    },
    "tags": []
   },
   "outputs": [
    {
     "name": "stdout",
     "output_type": "stream",
     "text": [
      "[0.76966292 0.80898876 0.83146067 0.80337079 0.83615819]\n",
      "0.8099282676315622\n"
     ]
    }
   ],
   "source": [
    "cv = cross_val_score(voting_clf, X_train, y_train, cv=5)\n",
    "print(cv)\n",
    "print(cv.mean())"
   ]
  },
  {
   "cell_type": "code",
   "execution_count": 64,
   "metadata": {
    "execution": {
     "iopub.execute_input": "2021-01-31T22:01:00.525759Z",
     "iopub.status.busy": "2021-01-31T22:01:00.525124Z",
     "iopub.status.idle": "2021-01-31T22:01:01.382040Z",
     "shell.execute_reply": "2021-01-31T22:01:01.382988Z"
    },
    "papermill": {
     "duration": 0.950608,
     "end_time": "2021-01-31T22:01:01.383202",
     "exception": false,
     "start_time": "2021-01-31T22:01:00.432594",
     "status": "completed"
    },
    "tags": []
   },
   "outputs": [
    {
     "name": "stdout",
     "output_type": "stream",
     "text": [
      "Your submission was successfully saved!\n"
     ]
    }
   ],
   "source": [
    "voting_clf.fit(X_train, y_train)\n",
    "yhat2 = voting_clf.predict(X_test). astype(int)\n",
    "\n",
    "base_submission2 = pd.DataFrame({'PassengerId': test.PassengerId, 'Survived': yhat2})\n",
    "base_submission2.to_csv('base_submission2.csv', index=False)\n",
    "print('Your submission was successfully saved!')"
   ]
  },
  {
   "cell_type": "markdown",
   "metadata": {
    "papermill": {
     "duration": 0.089529,
     "end_time": "2021-01-31T22:01:01.561459",
     "exception": false,
     "start_time": "2021-01-31T22:01:01.471930",
     "status": "completed"
    },
    "tags": []
   },
   "source": [
    "The voting classifier performed worse with a score of roughly 0.74. Lets try tuning the parameters of the models to improve the performance."
   ]
  },
  {
   "cell_type": "markdown",
   "metadata": {
    "papermill": {
     "duration": 0.087581,
     "end_time": "2021-01-31T22:01:01.736759",
     "exception": false,
     "start_time": "2021-01-31T22:01:01.649178",
     "status": "completed"
    },
    "tags": []
   },
   "source": [
    "# Parameter Tuning"
   ]
  },
  {
   "cell_type": "code",
   "execution_count": 65,
   "metadata": {
    "execution": {
     "iopub.execute_input": "2021-01-31T22:01:01.918817Z",
     "iopub.status.busy": "2021-01-31T22:01:01.918155Z",
     "iopub.status.idle": "2021-01-31T22:01:01.921518Z",
     "shell.execute_reply": "2021-01-31T22:01:01.920996Z"
    },
    "papermill": {
     "duration": 0.097494,
     "end_time": "2021-01-31T22:01:01.921649",
     "exception": false,
     "start_time": "2021-01-31T22:01:01.824155",
     "status": "completed"
    },
    "tags": []
   },
   "outputs": [],
   "source": [
    "from sklearn.model_selection import GridSearchCV\n",
    "from sklearn.model_selection import RandomizedSearchCV"
   ]
  },
  {
   "cell_type": "code",
   "execution_count": 66,
   "metadata": {
    "execution": {
     "iopub.execute_input": "2021-01-31T22:01:02.105109Z",
     "iopub.status.busy": "2021-01-31T22:01:02.104441Z",
     "iopub.status.idle": "2021-01-31T22:01:08.037406Z",
     "shell.execute_reply": "2021-01-31T22:01:08.036771Z"
    },
    "papermill": {
     "duration": 6.028266,
     "end_time": "2021-01-31T22:01:08.037515",
     "exception": false,
     "start_time": "2021-01-31T22:01:02.009249",
     "status": "completed"
    },
    "tags": []
   },
   "outputs": [
    {
     "name": "stdout",
     "output_type": "stream",
     "text": [
      "Fitting 5 folds for each of 28 candidates, totalling 140 fits\n"
     ]
    },
    {
     "name": "stderr",
     "output_type": "stream",
     "text": [
      "[Parallel(n_jobs=-1)]: Using backend LokyBackend with 4 concurrent workers.\n",
      "[Parallel(n_jobs=-1)]: Done  56 tasks      | elapsed:    2.5s\n"
     ]
    },
    {
     "name": "stdout",
     "output_type": "stream",
     "text": [
      "Best Score: 0.8223068621849807\n",
      "Best Parameters: {'C': 1, 'max_iter': 2000, 'penalty': 'l2', 'solver': 'liblinear'}\n"
     ]
    },
    {
     "name": "stderr",
     "output_type": "stream",
     "text": [
      "[Parallel(n_jobs=-1)]: Done 140 out of 140 | elapsed:    5.9s finished\n"
     ]
    }
   ],
   "source": [
    "param_lr = {'max_iter': [2000],\n",
    "           'penalty': ['l1', 'l2'],\n",
    "           'C': [0.001, 0.01, 0.1, 1, 10, 100, 1000],\n",
    "           'solver': ['liblinear', 'lbfgs']}\n",
    "\n",
    "clf_lr = GridSearchCV(lr, param_grid = param_lr, cv=5, verbose=True, n_jobs=-1)\n",
    "best_lr = clf_lr.fit(X_train, y_train)\n",
    "print('Best Score: ' + str(best_lr.best_score_))\n",
    "print('Best Parameters: ' + str(best_lr.best_params_))"
   ]
  },
  {
   "cell_type": "code",
   "execution_count": 67,
   "metadata": {
    "execution": {
     "iopub.execute_input": "2021-01-31T22:01:08.219591Z",
     "iopub.status.busy": "2021-01-31T22:01:08.218922Z",
     "iopub.status.idle": "2021-01-31T22:01:11.954428Z",
     "shell.execute_reply": "2021-01-31T22:01:11.953916Z"
    },
    "papermill": {
     "duration": 3.827984,
     "end_time": "2021-01-31T22:01:11.954614",
     "exception": false,
     "start_time": "2021-01-31T22:01:08.126630",
     "status": "completed"
    },
    "tags": []
   },
   "outputs": [
    {
     "name": "stdout",
     "output_type": "stream",
     "text": [
      "Fitting 5 folds for each of 120 candidates, totalling 600 fits\n"
     ]
    },
    {
     "name": "stderr",
     "output_type": "stream",
     "text": [
      "[Parallel(n_jobs=-1)]: Using backend LokyBackend with 4 concurrent workers.\n",
      "[Parallel(n_jobs=-1)]: Done 200 tasks      | elapsed:    1.4s\n"
     ]
    },
    {
     "name": "stdout",
     "output_type": "stream",
     "text": [
      "Best Score: 0.7502761378784992\n",
      "Best Parameters: {'algorithm': 'auto', 'n_neighbors': 3, 'p': 1, 'weights': 'uniform'}\n"
     ]
    },
    {
     "name": "stderr",
     "output_type": "stream",
     "text": [
      "[Parallel(n_jobs=-1)]: Done 600 out of 600 | elapsed:    3.7s finished\n"
     ]
    }
   ],
   "source": [
    "param_knn = {'n_neighbors': [1, 2, 3, 4, 5, 6, 7, 8, 9, 10],\n",
    "            'weights': ['uniform', 'distance'],\n",
    "            'algorithm': ['auto', 'ball_tree', 'kd_tree'],\n",
    "            'p': [1, 2]}\n",
    "\n",
    "clf_knn = GridSearchCV(knn, param_grid = param_knn, cv=5, verbose=True, n_jobs=-1)\n",
    "best_knn = clf_knn.fit(X_train, y_train)\n",
    "print('Best Score: ' + str(best_knn.best_score_))\n",
    "print('Best Parameters: ' + str(best_knn.best_params_))"
   ]
  },
  {
   "cell_type": "code",
   "execution_count": 68,
   "metadata": {
    "execution": {
     "iopub.execute_input": "2021-01-31T22:01:12.142634Z",
     "iopub.status.busy": "2021-01-31T22:01:12.141981Z",
     "iopub.status.idle": "2021-01-31T22:01:12.145632Z",
     "shell.execute_reply": "2021-01-31T22:01:12.146171Z"
    },
    "papermill": {
     "duration": 0.100651,
     "end_time": "2021-01-31T22:01:12.146309",
     "exception": false,
     "start_time": "2021-01-31T22:01:12.045658",
     "status": "completed"
    },
    "tags": []
   },
   "outputs": [
    {
     "ename": "IndentationError",
     "evalue": "unexpected indent (<ipython-input-68-4a31e477238d>, line 2)",
     "output_type": "error",
     "traceback": [
      "\u001b[0;36m  File \u001b[0;32m\"<ipython-input-68-4a31e477238d>\"\u001b[0;36m, line \u001b[0;32m2\u001b[0m\n\u001b[0;31m    'C': [0.1, 1, 10, 100, 1000]},\u001b[0m\n\u001b[0m    ^\u001b[0m\n\u001b[0;31mIndentationError\u001b[0m\u001b[0;31m:\u001b[0m unexpected indent\n"
     ]
    }
   ],
   "source": [
    "#param_SVC = [{'kernel': ['rbf'], 'gamma': [.1, .5, 1, 2, 5, 10],\n",
    "             'C': [0.1, 1, 10, 100, 1000]},\n",
    "            {'kernel': ['linear'], 'C': [0.1, 1, 10, 100, 1000]}]\n",
    "\n",
    "#clf_SVC = GridSearchCV(svc, param_grid = param_SVC, cv=5, verbose=True, n_jobs=-1)\n",
    "#best_SVC = clf_SVC.fit(X_train_scaled, y_train)\n",
    "#print('Best Score: ' + str(best_SVC.best_score_))\n",
    "#print('Best Parameters: ' + str(best_SVC.best_params_))"
   ]
  },
  {
   "cell_type": "code",
   "execution_count": 69,
   "metadata": {
    "execution": {
     "iopub.execute_input": "2021-01-31T22:01:12.339471Z",
     "iopub.status.busy": "2021-01-31T22:01:12.338760Z",
     "iopub.status.idle": "2021-01-31T22:04:54.149978Z",
     "shell.execute_reply": "2021-01-31T22:04:54.149338Z"
    },
    "papermill": {
     "duration": 221.911923,
     "end_time": "2021-01-31T22:04:54.150104",
     "exception": false,
     "start_time": "2021-01-31T22:01:12.238181",
     "status": "completed"
    },
    "tags": []
   },
   "outputs": [
    {
     "name": "stdout",
     "output_type": "stream",
     "text": [
      "Fitting 5 folds for each of 100 candidates, totalling 500 fits\n"
     ]
    },
    {
     "name": "stderr",
     "output_type": "stream",
     "text": [
      "[Parallel(n_jobs=-1)]: Using backend LokyBackend with 4 concurrent workers.\n",
      "[Parallel(n_jobs=-1)]: Done  42 tasks      | elapsed:   19.5s\n",
      "[Parallel(n_jobs=-1)]: Done 192 tasks      | elapsed:  1.2min\n",
      "[Parallel(n_jobs=-1)]: Done 442 tasks      | elapsed:  3.2min\n"
     ]
    },
    {
     "name": "stdout",
     "output_type": "stream",
     "text": [
      "Best Score: 0.8346664127467784\n",
      "Best Parameters: {'n_estimators': 100, 'min_samples_split': 10, 'min_samples_leaf': 4, 'max_features': 'sqrt', 'max_depth': 100, 'bootstrap': False}\n"
     ]
    },
    {
     "name": "stderr",
     "output_type": "stream",
     "text": [
      "[Parallel(n_jobs=-1)]: Done 500 out of 500 | elapsed:  3.7min finished\n"
     ]
    }
   ],
   "source": [
    "param_rfc = {'n_estimators': [100, 500, 1000],\n",
    "           'bootstrap': [True, False],\n",
    "           'max_depth': [3, 5, 10, 20, 50, 75, 100, None],\n",
    "           'max_features': ['auto', 'sqrt'],\n",
    "           'min_samples_leaf': [1, 2, 4, 10],\n",
    "           'min_samples_split': [2, 5, 10]}\n",
    "\n",
    "clf_rfc = RandomizedSearchCV(rfc, param_distributions = param_rfc, cv=5, verbose=True, n_jobs=-1, n_iter=100)\n",
    "best_rfc = clf_rfc.fit(X_train_scaled, y_train)\n",
    "print('Best Score: ' + str(best_rfc.best_score_))\n",
    "print('Best Parameters: ' + str(best_rfc.best_params_))"
   ]
  },
  {
   "cell_type": "code",
   "execution_count": 70,
   "metadata": {
    "execution": {
     "iopub.execute_input": "2021-01-31T22:04:54.349433Z",
     "iopub.status.busy": "2021-01-31T22:04:54.348697Z",
     "iopub.status.idle": "2021-01-31T22:16:00.465185Z",
     "shell.execute_reply": "2021-01-31T22:16:00.464553Z"
    },
    "papermill": {
     "duration": 666.22095,
     "end_time": "2021-01-31T22:16:00.465313",
     "exception": false,
     "start_time": "2021-01-31T22:04:54.244363",
     "status": "completed"
    },
    "tags": []
   },
   "outputs": [
    {
     "name": "stdout",
     "output_type": "stream",
     "text": [
      "Fitting 5 folds for each of 288 candidates, totalling 1440 fits\n"
     ]
    },
    {
     "name": "stderr",
     "output_type": "stream",
     "text": [
      "[Parallel(n_jobs=-1)]: Using backend LokyBackend with 4 concurrent workers.\n",
      "[Parallel(n_jobs=-1)]: Done  42 tasks      | elapsed:   18.9s\n",
      "[Parallel(n_jobs=-1)]: Done 192 tasks      | elapsed:  1.4min\n",
      "[Parallel(n_jobs=-1)]: Done 442 tasks      | elapsed:  3.3min\n",
      "[Parallel(n_jobs=-1)]: Done 792 tasks      | elapsed:  6.0min\n",
      "[Parallel(n_jobs=-1)]: Done 1242 tasks      | elapsed:  9.5min\n",
      "[Parallel(n_jobs=-1)]: Done 1440 out of 1440 | elapsed: 11.1min finished\n"
     ]
    },
    {
     "name": "stdout",
     "output_type": "stream",
     "text": [
      "Best Score: 0.8414079857804863\n",
      "Best Parameters: {'bootstrap': True, 'criterion': 'entropy', 'max_depth': 25, 'max_features': 10, 'min_samples_leaf': 3, 'min_samples_split': 3, 'n_estimators': 400}\n"
     ]
    }
   ],
   "source": [
    "param_rfc = {'n_estimators': [400, 450, 500, 550],\n",
    "           'criterion': ['gini', 'entropy'],\n",
    "           'bootstrap': [True],\n",
    "           'max_depth': [15, 20, 25],\n",
    "           'max_features': ['auto', 'sqrt', 10],\n",
    "           'min_samples_leaf': [2,3],\n",
    "           'min_samples_split': [2,3]}\n",
    "\n",
    "clf_rfc = GridSearchCV(rfc, param_grid = param_rfc, cv=5, verbose=True, n_jobs=-1)\n",
    "best_rfc = clf_rfc.fit(X_train_scaled, y_train)\n",
    "print('Best Score: ' + str(best_rfc.best_score_))\n",
    "print('Best Parameters: ' + str(best_rfc.best_params_))"
   ]
  },
  {
   "cell_type": "code",
   "execution_count": 71,
   "metadata": {
    "execution": {
     "iopub.execute_input": "2021-01-31T22:16:00.669961Z",
     "iopub.status.busy": "2021-01-31T22:16:00.669206Z",
     "iopub.status.idle": "2021-01-31T22:16:00.734208Z",
     "shell.execute_reply": "2021-01-31T22:16:00.733604Z"
    },
    "papermill": {
     "duration": 0.171444,
     "end_time": "2021-01-31T22:16:00.734331",
     "exception": false,
     "start_time": "2021-01-31T22:16:00.562887",
     "status": "completed"
    },
    "tags": []
   },
   "outputs": [
    {
     "name": "stdout",
     "output_type": "stream",
     "text": [
      "Your submission was successfully saved!\n"
     ]
    }
   ],
   "source": [
    "yhat3 = best_rfc.best_estimator_.predict(X_test_scaled).astype(int)\n",
    "rfc_submission = {'PassengerId': test.PassengerId, 'Survived': yhat3}\n",
    "rfc_submission = pd.DataFrame(data=rfc_submission)\n",
    "rfc_submission.to_csv('rfc_submission.csv', index=False)\n",
    "print('Your submission was successfully saved!')"
   ]
  },
  {
   "cell_type": "code",
   "execution_count": null,
   "metadata": {
    "papermill": {
     "duration": 0.09848,
     "end_time": "2021-01-31T22:16:00.931089",
     "exception": false,
     "start_time": "2021-01-31T22:16:00.832609",
     "status": "completed"
    },
    "tags": []
   },
   "outputs": [],
   "source": []
  }
 ],
 "metadata": {
  "kernelspec": {
   "display_name": "Python 3",
   "language": "python",
   "name": "python3"
  },
  "language_info": {
   "codemirror_mode": {
    "name": "ipython",
    "version": 3
   },
   "file_extension": ".py",
   "mimetype": "text/x-python",
   "name": "python",
   "nbconvert_exporter": "python",
   "pygments_lexer": "ipython3",
   "version": "3.7.6"
  },
  "papermill": {
   "duration": 937.934285,
   "end_time": "2021-01-31T22:16:01.141134",
   "environment_variables": {},
   "exception": null,
   "input_path": "__notebook__.ipynb",
   "output_path": "__notebook__.ipynb",
   "parameters": {},
   "start_time": "2021-01-31T22:00:23.206849",
   "version": "2.1.0"
  }
 },
 "nbformat": 4,
 "nbformat_minor": 4
}
